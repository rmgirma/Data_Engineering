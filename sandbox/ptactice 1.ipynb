{
  "cells": [
    {
      "cell_type": "markdown",
      "metadata": {
        "id": "W9LJu8VEIP3p"
      },
      "source": [
        "#Accessing a Paginated API Endpoint to Explore Data\n",
        "\n",
        "In this lab we will combine concepts that we have learned throughout the class so far. Some of those concepts are:\n",
        "\n",
        ">*   Importing Libraries\n",
        ">*   Looping through nested lists and Dictionaries\n",
        ">*   Make a request to an API Endpoint\n",
        ">*   Define functions based on a given set of conditions\n",
        ">*   Accessing and utilizing JSON data\n",
        ">*   Handling Exception Errors\n",
        ">*   Writing Pseudo-Code\n",
        "<br></br>\n",
        "\n",
        "To complete this lab we will be using data from a Star Wars API. The full documentation can be found here: https://swapi.dev/documentation#intro\n",
        "<br></br> \n",
        "We will be focusing on the \"People Resource\" in this lab.\n",
        "\n",
        "\n"
      ]
    },
    {
      "cell_type": "markdown",
      "metadata": {
        "id": "MkNS0-Q2KUGj"
      },
      "source": [
        "Before we start writing code, we need to explore our resource. Some questions to consider:\n",
        "\n",
        "\n",
        "\n",
        "*   What is the base url?\n",
        "*   How many charachters are listed per page?\n",
        "*   How many total charachters are there?\n",
        "*   What keys are available for each charachter?\n",
        "*   What is the data type for each key? *Be careful with Data Types! They can cause some unwanted exceptions as we begin to write our functions*\n",
        "\n",
        "Write the answers to these questions below.\n",
        "\n",
        "\n"
      ]
    },
    {
      "cell_type": "code",
      "execution_count": 1,
      "metadata": {
        "id": "hdShXQivLI9b"
      },
      "outputs": [],
      "source": [
        "import json\n",
        "import re\n",
        "from pprint import pp\n",
        "import requests\n",
        "\n",
        "# Set the global variable \"results\"\n",
        "global results\n",
        "results = []\n",
        "\n",
        "def get_data(page_number):\n",
        "    response = requests.get(f'https://swapi.dev/api/people/?page={page_number}')\n",
        "    data = response.json()\n",
        "    return data\n",
        "\n",
        "# Fetch data from all 9 pages of the Star Wars API\n",
        "for i in range(1, 10):\n",
        "    page_data = get_data(i)\n",
        "    results.extend(page_data['results'])"
      ]
    },
    {
      "cell_type": "markdown",
      "metadata": {
        "id": "6kDt8lqYLOLp"
      },
      "source": [
        "Write the Psuedo-Code for the process that you will use to access the api endpoint, and get all of the charachter data below."
      ]
    },
    {
      "cell_type": "markdown",
      "metadata": {
        "id": "PMtPeI04Lst3"
      },
      "source": [
        "Import all of the reuqired packages to complete this assignment. \n",
        "Include a package to print json in a tabular format."
      ]
    },
    {
      "cell_type": "markdown",
      "metadata": {
        "id": "WVOtZOtfMHyH"
      },
      "source": [
        "Make your request to the API Endpoint and use a **FOR LOOP** if neccessary to access multiple pages. \n",
        "<br></br>\n",
        "Save all of the responses in one Python Object."
      ]
    },
    {
      "cell_type": "markdown",
      "metadata": {
        "id": "ApAz056aMlrF"
      },
      "source": [
        "Create a new Python object that holds on the 'result' key for each Charachter dictionary."
      ]
    },
    {
      "cell_type": "code",
      "execution_count": 2,
      "metadata": {
        "id": "GVLf5PuVY7gj"
      },
      "outputs": [
        {
          "name": "stdout",
          "output_type": "stream",
          "text": [
            "['Luke Skywalker',\n",
            " 'C-3PO',\n",
            " 'R2-D2',\n",
            " 'Darth Vader',\n",
            " 'Leia Organa',\n",
            " 'Owen Lars',\n",
            " 'Beru Whitesun lars',\n",
            " 'R5-D4',\n",
            " 'Biggs Darklighter',\n",
            " 'Obi-Wan Kenobi',\n",
            " 'Anakin Skywalker',\n",
            " 'Wilhuff Tarkin',\n",
            " 'Chewbacca',\n",
            " 'Han Solo',\n",
            " 'Greedo',\n",
            " 'Jabba Desilijic Tiure',\n",
            " 'Wedge Antilles',\n",
            " 'Jek Tono Porkins',\n",
            " 'Yoda',\n",
            " 'Palpatine',\n",
            " 'Boba Fett',\n",
            " 'IG-88',\n",
            " 'Bossk',\n",
            " 'Lando Calrissian',\n",
            " 'Lobot',\n",
            " 'Ackbar',\n",
            " 'Mon Mothma',\n",
            " 'Arvel Crynyd',\n",
            " 'Wicket Systri Warrick',\n",
            " 'Nien Nunb',\n",
            " 'Qui-Gon Jinn',\n",
            " 'Nute Gunray',\n",
            " 'Finis Valorum',\n",
            " 'Padmé Amidala',\n",
            " 'Jar Jar Binks',\n",
            " 'Roos Tarpals',\n",
            " 'Rugor Nass',\n",
            " 'Ric Olié',\n",
            " 'Watto',\n",
            " 'Sebulba',\n",
            " 'Quarsh Panaka',\n",
            " 'Shmi Skywalker',\n",
            " 'Darth Maul',\n",
            " 'Bib Fortuna',\n",
            " 'Ayla Secura',\n",
            " 'Ratts Tyerel',\n",
            " 'Dud Bolt',\n",
            " 'Gasgano',\n",
            " 'Ben Quadinaros',\n",
            " 'Mace Windu',\n",
            " 'Ki-Adi-Mundi',\n",
            " 'Kit Fisto',\n",
            " 'Eeth Koth',\n",
            " 'Adi Gallia',\n",
            " 'Saesee Tiin',\n",
            " 'Yarael Poof',\n",
            " 'Plo Koon',\n",
            " 'Mas Amedda',\n",
            " 'Gregar Typho',\n",
            " 'Cordé',\n",
            " 'Cliegg Lars',\n",
            " 'Poggle the Lesser',\n",
            " 'Luminara Unduli',\n",
            " 'Barriss Offee',\n",
            " 'Dormé',\n",
            " 'Dooku',\n",
            " 'Bail Prestor Organa',\n",
            " 'Jango Fett',\n",
            " 'Zam Wesell',\n",
            " 'Dexter Jettster',\n",
            " 'Lama Su',\n",
            " 'Taun We',\n",
            " 'Jocasta Nu',\n",
            " 'R4-P17',\n",
            " 'Wat Tambor',\n",
            " 'San Hill',\n",
            " 'Shaak Ti',\n",
            " 'Grievous',\n",
            " 'Tarfful',\n",
            " 'Raymus Antilles',\n",
            " 'Sly Moore',\n",
            " 'Tion Medon']\n"
          ]
        }
      ],
      "source": [
        "def get_character_names():\n",
        "    global results\n",
        "    names = [character['name'] for character in results]\n",
        "    return names\n",
        "\n",
        "# Test the function\n",
        "character_names = get_character_names()\n",
        "pp(character_names)\n"
      ]
    },
    {
      "cell_type": "markdown",
      "metadata": {
        "id": "7TVWknUzZNIS"
      },
      "source": [
        "Define a function that returns a list of all the charachter names.\n",
        "\n",
        "Call the function."
      ]
    },
    {
      "cell_type": "code",
      "execution_count": 3,
      "metadata": {
        "id": "WLUSa9msZYOv"
      },
      "outputs": [
        {
          "name": "stdout",
          "output_type": "stream",
          "text": [
            "['Luke Skywalker',\n",
            " 'C-3PO',\n",
            " 'R2-D2',\n",
            " 'Darth Vader',\n",
            " 'Leia Organa',\n",
            " 'Owen Lars',\n",
            " 'Beru Whitesun lars',\n",
            " 'R5-D4',\n",
            " 'Biggs Darklighter',\n",
            " 'Obi-Wan Kenobi',\n",
            " 'Anakin Skywalker',\n",
            " 'Wilhuff Tarkin',\n",
            " 'Chewbacca',\n",
            " 'Han Solo',\n",
            " 'Greedo',\n",
            " 'Jabba Desilijic Tiure',\n",
            " 'Wedge Antilles',\n",
            " 'Jek Tono Porkins',\n",
            " 'Yoda',\n",
            " 'Palpatine',\n",
            " 'Boba Fett',\n",
            " 'IG-88',\n",
            " 'Bossk',\n",
            " 'Lando Calrissian',\n",
            " 'Lobot',\n",
            " 'Ackbar',\n",
            " 'Mon Mothma',\n",
            " 'Arvel Crynyd',\n",
            " 'Wicket Systri Warrick',\n",
            " 'Nien Nunb',\n",
            " 'Qui-Gon Jinn',\n",
            " 'Nute Gunray',\n",
            " 'Finis Valorum',\n",
            " 'Padmé Amidala',\n",
            " 'Jar Jar Binks',\n",
            " 'Roos Tarpals',\n",
            " 'Rugor Nass',\n",
            " 'Ric Olié',\n",
            " 'Watto',\n",
            " 'Sebulba',\n",
            " 'Quarsh Panaka',\n",
            " 'Shmi Skywalker',\n",
            " 'Darth Maul',\n",
            " 'Bib Fortuna',\n",
            " 'Ayla Secura',\n",
            " 'Ratts Tyerel',\n",
            " 'Dud Bolt',\n",
            " 'Gasgano',\n",
            " 'Ben Quadinaros',\n",
            " 'Mace Windu',\n",
            " 'Ki-Adi-Mundi',\n",
            " 'Kit Fisto',\n",
            " 'Eeth Koth',\n",
            " 'Adi Gallia',\n",
            " 'Saesee Tiin',\n",
            " 'Yarael Poof',\n",
            " 'Plo Koon',\n",
            " 'Mas Amedda',\n",
            " 'Gregar Typho',\n",
            " 'Cordé',\n",
            " 'Cliegg Lars',\n",
            " 'Poggle the Lesser',\n",
            " 'Luminara Unduli',\n",
            " 'Barriss Offee',\n",
            " 'Dormé',\n",
            " 'Dooku',\n",
            " 'Bail Prestor Organa',\n",
            " 'Jango Fett',\n",
            " 'Zam Wesell',\n",
            " 'Dexter Jettster',\n",
            " 'Lama Su',\n",
            " 'Taun We',\n",
            " 'Jocasta Nu',\n",
            " 'R4-P17',\n",
            " 'Wat Tambor',\n",
            " 'San Hill',\n",
            " 'Shaak Ti',\n",
            " 'Grievous',\n",
            " 'Tarfful',\n",
            " 'Raymus Antilles',\n",
            " 'Sly Moore',\n",
            " 'Tion Medon']\n"
          ]
        }
      ],
      "source": [
        "def get_character_names():\n",
        "    names = [character['name'] for character in results]\n",
        "    return names\n",
        "\n",
        "# Test the function\n",
        "character_names = get_character_names()\n",
        "pp(character_names)\n"
      ]
    },
    {
      "attachments": {},
      "cell_type": "markdown",
      "metadata": {
        "id": "SPV49uLFZaz3"
      },
      "source": [
        "Define a function that counts the total number of male charachters and the total number of female charachters. Return both numbers.\n",
        "\n",
        "Call the function.\n",
        "Considerations: Do all charachters have the gender male or female?"
      ]
    },
    {
      "cell_type": "code",
      "execution_count": 4,
      "metadata": {
        "id": "pALC6DJxZqxD"
      },
      "outputs": [
        {
          "name": "stdout",
          "output_type": "stream",
          "text": [
            "Number of male characters: 60\n",
            "Number of female characters: 17\n"
          ]
        }
      ],
      "source": [
        "def count_male_female_characters():\n",
        "    male_count = 0\n",
        "    female_count = 0\n",
        "    \n",
        "    for character in results:\n",
        "        if character['gender'] == 'male':\n",
        "            male_count += 1\n",
        "        elif character['gender'] == 'female':\n",
        "            female_count += 1\n",
        "    \n",
        "    return male_count, female_count\n",
        "\n",
        "male_count, female_count = count_male_female_characters()\n",
        "print(f\"Number of male characters: {male_count}\")\n",
        "print(f\"Number of female characters: {female_count}\")"
      ]
    },
    {
      "cell_type": "markdown",
      "metadata": {
        "id": "0NVoP8RwZwwW"
      },
      "source": [
        "Define a function that returns a list of all the charachters that appear in more than 'x' number of films. Where 'x' is an integer that is passed as an argument into the function.\n",
        "\n",
        "Call the function with at least two test cases.\n",
        "<br></br>\n",
        "Considerations: Is 'more' than inclusive of the number passed?"
      ]
    },
    {
      "cell_type": "code",
      "execution_count": 8,
      "metadata": {
        "id": "HNU93nk1aJwr"
      },
      "outputs": [
        {
          "name": "stdout",
          "output_type": "stream",
          "text": [
            "\n",
            "Characters in more than 3 films:\n",
            "['Luke Skywalker',\n",
            " 'C-3PO',\n",
            " 'R2-D2',\n",
            " 'Darth Vader',\n",
            " 'Leia Organa',\n",
            " 'Obi-Wan Kenobi',\n",
            " 'Chewbacca',\n",
            " 'Yoda',\n",
            " 'Palpatine']\n",
            "\n",
            "Characters in more than 4 films:\n",
            "['C-3PO', 'R2-D2', 'Obi-Wan Kenobi', 'Yoda', 'Palpatine']\n"
          ]
        }
      ],
      "source": [
        "def characters_in_more_than_x_films(x):\n",
        "    characters = [character for character in results if len(character['films']) > x]\n",
        "    names = [character['name'] for character in characters]\n",
        "    return names\n",
        "\n",
        "# Test the function with two test cases\n",
        "test_case_1 = characters_in_more_than_x_films(3)\n",
        "print(\"\\nCharacters in more than 3 films:\")\n",
        "pp(test_case_1)\n",
        "\n",
        "test_case_2 = characters_in_more_than_x_films(4)\n",
        "print(\"\\nCharacters in more than 4 films:\")\n",
        "pp(test_case_2)"
      ]
    },
    {
      "cell_type": "markdown",
      "metadata": {
        "id": "eIIBFhc2aKJk"
      },
      "source": [
        "Define a function that returns a list of all the charachters that start with a specific letter. Where the letter is pass as a string as an argument into the function.\n",
        "\n",
        "Call the function with an uppercase letter.\n",
        "Call the function with the same charachter as a lowercase letter.\n",
        "<br></br>\n",
        "Considerations: How do you handle the type of charachter being passed? There are many different ways to make this work. Be Creative."
      ]
    },
    {
      "cell_type": "code",
      "execution_count": 9,
      "metadata": {
        "id": "3VnNmKdybwiP"
      },
      "outputs": [
        {
          "name": "stdout",
          "output_type": "stream",
          "text": [
            "Characters starting with uppercase 'L':\n",
            "['Luke Skywalker',\n",
            " 'Leia Organa',\n",
            " 'Lando Calrissian',\n",
            " 'Lobot',\n",
            " 'Luminara Unduli',\n",
            " 'Lama Su']\n",
            "\n",
            "Characters starting with lowercase 'l':\n",
            "['Luke Skywalker',\n",
            " 'Leia Organa',\n",
            " 'Lando Calrissian',\n",
            " 'Lobot',\n",
            " 'Luminara Unduli',\n",
            " 'Lama Su']\n"
          ]
        }
      ],
      "source": [
        "def starting_letter(letter):\n",
        "    letter = letter.lower()\n",
        "    names = []\n",
        "    for character in results:\n",
        "        if character['name'].lower().startswith(letter):\n",
        "            names.append(character['name'])\n",
        "    return names\n",
        "\n",
        "# Test the function with uppercase \"L\"\n",
        "test_case_upper = starting_letter(\"L\")\n",
        "print(\"Characters starting with uppercase 'L':\")\n",
        "pp(test_case_upper)\n",
        "\n",
        "# Test the function with lowercase \"l\"\n",
        "test_case_lower = starting_letter(\"l\")\n",
        "print(\"\\nCharacters starting with lowercase 'l':\")\n",
        "pp(test_case_lower)\n"
      ]
    },
    {
      "cell_type": "markdown",
      "metadata": {
        "id": "ra4huEK5bSn8"
      },
      "source": [
        "Define a function that returns a tuple of the min, max, and avg height for all charachters converted into feet.\n",
        "\n",
        "Unpack the tuple when making the function call.\n",
        "<br></br>\n",
        "Considerations: Use built-in methods for the min, max, and avg."
      ]
    },
    {
      "cell_type": "code",
      "execution_count": 10,
      "metadata": {
        "id": "Lk57X-DWbvgd"
      },
      "outputs": [
        {
          "name": "stdout",
          "output_type": "stream",
          "text": [
            "Minimum height: 2.17 ft\n",
            "Maximum height: 8.66 ft\n",
            "Average height: 5.73 ft\n"
          ]
        }
      ],
      "source": [
        "def r_m_mx_avg():\n",
        "    heights = []\n",
        "    for character in results:\n",
        "        if character['height'].isdigit():\n",
        "            height = int(character['height'])\n",
        "            height_in_feet = height * 0.0328084\n",
        "            heights.append(height_in_feet)\n",
        "\n",
        "    min_height = min(heights)\n",
        "    max_height = max(heights)\n",
        "    avg_height = sum(heights) / len(heights)\n",
        "\n",
        "    return min_height, max_height, avg_height\n",
        "\n",
        "# Call the function and unpack the tuple\n",
        "min_height, max_height, avg_height = r_m_mx_avg()\n",
        "\n",
        "print(f\"Minimum height: {min_height:.2f} ft\")\n",
        "print(f\"Maximum height: {max_height:.2f} ft\")\n",
        "print(f\"Average height: {avg_height:.2f} ft\")\n"
      ]
    },
    {
      "cell_type": "markdown",
      "metadata": {
        "id": "IKwDIQTYb435"
      },
      "source": [
        "Define a function that accepts two arguments: eye color and hair color. Return a dictionary with the min, max, and avg height based on the arguments given.\n",
        "\n",
        "Call the function using \"blue\" for the eye color and \"blond\" for the hair color.\n",
        "\n",
        "Call the function using arguments of your choice.\n",
        "\n"
      ]
    },
    {
      "cell_type": "code",
      "execution_count": 11,
      "metadata": {
        "id": "zMvacURNcyE5"
      },
      "outputs": [
        {
          "name": "stdout",
          "output_type": "stream",
          "text": [
            "Results for blue eyes and blond hair:\n",
            "{'min': 5.577428, 'max': 6.1679792, 'avg': 5.796150666666667}\n",
            "\n",
            "Results for brown eyes and black hair:\n",
            "{'min': 5.3477692, 'max': 6.2664044, 'avg': 5.901866622222222}\n"
          ]
        }
      ],
      "source": [
        "def eye_hair(eye_color, hair_color):\n",
        "    heights = []\n",
        "\n",
        "    for character in results:\n",
        "        if (character['eye_color'].lower() == eye_color.lower() and\n",
        "                character['hair_color'].lower() == hair_color.lower() and\n",
        "                character['height'].isdigit()):\n",
        "            height_in_feet = int(character['height']) * 0.0328084\n",
        "            heights.append(height_in_feet)\n",
        "\n",
        "    if not heights:\n",
        "        return None\n",
        "\n",
        "    min_height = min(heights)\n",
        "    max_height = max(heights)\n",
        "    avg_height = sum(heights) / len(heights)\n",
        "\n",
        "    return {'min': min_height, 'max': max_height, 'avg': avg_height}\n",
        "\n",
        "# Call the function with \"blue\" eye color and \"blond\" hair color\n",
        "result1 = eye_hair(\"blue\", \"blond\")\n",
        "print(\"Results for blue eyes and blond hair:\")\n",
        "pp(result1)\n",
        "\n",
        "# Call the function with custom arguments\n",
        "result2 = eye_hair(\"brown\", \"black\")\n",
        "print(\"\\nResults for brown eyes and black hair:\")\n",
        "pp(result2)\n"
      ]
    }
  ],
  "metadata": {
    "colab": {
      "provenance": []
    },
    "kernelspec": {
      "display_name": "Python 3",
      "name": "python3"
    },
    "language_info": {
      "codemirror_mode": {
        "name": "ipython",
        "version": 3
      },
      "file_extension": ".py",
      "mimetype": "text/x-python",
      "name": "python",
      "nbconvert_exporter": "python",
      "pygments_lexer": "ipython3",
      "version": "3.10.9"
    }
  },
  "nbformat": 4,
  "nbformat_minor": 0
}
