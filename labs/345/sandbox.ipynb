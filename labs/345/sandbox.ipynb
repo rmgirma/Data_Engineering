{
 "cells": [
  {
   "cell_type": "code",
   "execution_count": 1,
   "metadata": {},
   "outputs": [],
   "source": [
    "from pyspark import SparkConf, SparkContext"
   ]
  },
  {
   "cell_type": "code",
   "execution_count": 2,
   "metadata": {},
   "outputs": [],
   "source": [
    "config = SparkConf().setAppName(\"YourAppName\").setMaster(\"local[*]\")\n",
    "sc = SparkContext(conf=config)"
   ]
  },
  {
   "cell_type": "code",
   "execution_count": 3,
   "metadata": {},
   "outputs": [
    {
     "name": "stdout",
     "output_type": "stream",
     "text": [
      "8\n"
     ]
    }
   ],
   "source": [
    "data = [1, 2, 3, 4, 5]\n",
    "rdd = sc.parallelize(data)\n",
    "chk_parallelize = rdd.getNumPartitions()\n",
    "print(chk_parallelize)\n"
   ]
  },
  {
   "cell_type": "code",
   "execution_count": 4,
   "metadata": {},
   "outputs": [
    {
     "name": "stdout",
     "output_type": "stream",
     "text": [
      "[\"The history of New York begins around 10,000 BC, when the first Native Americans arrived. By 1100 AD, New York's main native cultures, the Iroquoian and Algonquian, had developed. European discovery of New York was led by the French in 1524 and the first land claim came in 1609 by the Dutch. As part of New Netherland, the colony was important in the fur trade and eventually became an agricultural resource thanks to the patroon system. In 1626 the Dutch bought the island of Manhattan from Native Americans.[1] In 1664, England renamed the colony New York, after the Duke of York (later James II & VII.) New York City gained prominence in the 18th century as a major trading port in the Thirteen Colonies.\", '', \"New York played a pivotal role during the American Revolution and subsequent war. The Stamp Act Congress in 1765 brought together representatives from across the Thirteen Colonies to form a unified response to British policies. The Sons of Liberty were active in New York City to challenge British authority. After a major loss at the Battle of Long Island, the Continental Army suffered a series of additional defeats that forced a retreat from the New York City area, leaving the strategic port and harbor to the British army and navy as their North American base of operations for the rest of the war. The Battle of Saratoga was the turning point of the war in favor of the Americans, convincing France to formally ally with them. New York's constitution was adopted in 1777, and strongly influenced the United States Constitution. New York City was the national capital at various times between 1785 and 1790, where the Bill of Rights was drafted. Albany became the permanent state capital in 1797. In 1787, New York became the eleventh state to ratify the United States Constitution.\", '', \"New York hosted significant transportation advancements in the 19th century, including the first steamboat line in 1807, the Erie Canal in 1825, and America's first regularly scheduled rail service in 1831. These advancements led to the expanded settlement of western New York and trade ties to the Midwest settlements around the Great Lakes.\", '', \"Due to New York City's trade ties to the South, there were numerous southern sympathizers in the early days of the American Civil War and the mayor proposed secession. Far from any of the battles, New York ultimately sent the most men and money to support the Union cause. Thereafter, the state helped create the industrial age and consequently was home to some of the first labor unions.\", '', 'During the 19th century, New York City became the main entry point for European immigrants to the United States, beginning with a wave of Irish during their Great Famine. Millions came through Castle Clinton in Battery Park before Ellis Island opened in 1892 to welcome millions more, increasingly from eastern and southern Europe. The Statue of Liberty opened in 1886 and became a symbol of hope. New York boomed during the Roaring Twenties, before the Wall Street Crash of 1929, and skyscrapers expressed the energy of the city. New York City was the site of successive tallest buildings in the world from 1913–74.', '', \"The buildup of defense industries for World War II turned around the state's economy from the Great Depression, as hundreds of thousands worked to defeat the Axis powers. Following the war, the state experienced significant suburbanization around all the major cities, and most central cities shrank. The Thruway system opened in 1956, signalling another era of transportation advances.\", '', \"Following a period of near–bankruptcy in the late 1970s, New York City renewed its stature as a cultural center, attracted more immigration, and hosted the development of new music styles. The city developed from publishing to become a media capital over the second half of the 20th century, hosting most national news channels and broadcasts. Some of its newspapers became nationally and globallyrenowned. The state's manufacturing base eroded with the restructuring of industry, and the state transitioned into service industries.\", '', 'The September 11 attacks of 2001 destroyed the World Trade Center, killing almost 3,000 people; they were the largest terrorist attacks on United States soil.']\n"
     ]
    }
   ],
   "source": [
    "rdd = sc.textFile(\"c:\\PE\\word_count.txt\")\n",
    "result = rdd.collect()\n",
    "print(result)"
   ]
  },
  {
   "cell_type": "code",
   "execution_count": 5,
   "metadata": {},
   "outputs": [
    {
     "name": "stdout",
     "output_type": "stream",
     "text": [
      "[1, 2, 3, 4, 5]\n",
      "[2, 4, 6, 8, 10]\n",
      "<class 'list'>\n"
     ]
    }
   ],
   "source": [
    "rdd1 = sc.parallelize([1, 2, 3, 4, 5])\n",
    "rdd2 = rdd1.map(lambda x: x * 2)\n",
    "\n",
    "r1 = rdd1.collect()\n",
    "r2 = rdd2.collect()\n",
    "\n",
    "print(r1)\n",
    "print(r2)\n",
    "print(type(r1))"
   ]
  },
  {
   "cell_type": "code",
   "execution_count": 6,
   "metadata": {},
   "outputs": [],
   "source": [
    "sc.stop()"
   ]
  },
  {
   "cell_type": "code",
   "execution_count": 7,
   "metadata": {},
   "outputs": [
    {
     "data": {
      "text/plain": [
       "ParallelCollectionRDD[0] at readRDDFromFile at PythonRDD.scala:287"
      ]
     },
     "metadata": {},
     "output_type": "display_data"
    },
    {
     "data": {
      "text/plain": [
       "[1, 2, 3, 4, 5, 6, 7, 8, 9, 10, 11, 12]"
      ]
     },
     "metadata": {},
     "output_type": "display_data"
    },
    {
     "name": "stdout",
     "output_type": "stream",
     "text": [
      "2\n"
     ]
    }
   ],
   "source": [
    "sc.stop()\n",
    "from pyspark import SparkContext\n",
    "sc =SparkContext()\n",
    "data = [1,2,3,4,5,6,7,8,9,10,11,12]\n",
    "rdds=sc.parallelize(data)\n",
    "display( rdds, rdds.collect() )\n",
    "partition_num = rdd.getNumPartitions()\n",
    "print(partition_num)\n",
    "\n"
   ]
  },
  {
   "cell_type": "code",
   "execution_count": 41,
   "metadata": {},
   "outputs": [],
   "source": [
    "sc.stop()"
   ]
  },
  {
   "cell_type": "code",
   "execution_count": 8,
   "metadata": {},
   "outputs": [
    {
     "data": {
      "text/plain": [
       "['1,\"Goroka\",\"Goroka\",\"Papua New Guinea\",\"GKA\",\"AYGA\",-6.081689,145.391881,5282,10,\"U\",\"Pacific/Port_Moresby\"',\n",
       " '2,\"Madang\",\"Madang\",\"Papua New Guinea\",\"MAG\",\"AYMD\",-5.207083,145.7887,20,10,\"U\",\"Pacific/Port_Moresby\"',\n",
       " '3,\"Mount Hagen\",\"Mount Hagen\",\"Papua New Guinea\",\"HGU\",\"AYMH\",-5.826789,144.295861,5388,10,\"U\",\"Pacific/Port_Moresby\"',\n",
       " '4,\"Nadzab\",\"Nadzab\",\"Papua New Guinea\",\"LAE\",\"AYNZ\",-6.569828,146.726242,239,10,\"U\",\"Pacific/Port_Moresby\"',\n",
       " '5,\"Port Moresby Jacksons Intl\",\"Port Moresby\",\"Papua New Guinea\",\"POM\",\"AYPY\",-9.443383,147.22005,146,10,\"U\",\"Pacific/Port_Moresby\"',\n",
       " '6,\"Wewak Intl\",\"Wewak\",\"Papua New Guinea\",\"WWK\",\"AYWK\",-3.583828,143.669186,19,10,\"U\",\"Pacific/Port_Moresby\"',\n",
       " '7,\"Narsarsuaq\",\"Narssarssuaq\",\"Greenland\",\"UAK\",\"BGBW\",61.160517,-45.425978,112,-3,\"E\",\"America/Godthab\"',\n",
       " '8,\"Nuuk\",\"Godthaab\",\"Greenland\",\"GOH\",\"BGGH\",64.190922,-51.678064,283,-3,\"E\",\"America/Godthab\"',\n",
       " '9,\"Sondre Stromfjord\",\"Sondrestrom\",\"Greenland\",\"SFJ\",\"BGSF\",67.016969,-50.689325,165,-3,\"E\",\"America/Godthab\"',\n",
       " '10,\"Thule Air Base\",\"Thule\",\"Greenland\",\"THU\",\"BGTL\",76.531203,-68.703161,251,-4,\"E\",\"America/Thule\"',\n",
       " '11,\"Akureyri\",\"Akureyri\",\"Iceland\",\"AEY\",\"BIAR\",65.659994,-18.072703,6,0,\"N\",\"Atlantic/Reykjavik\"',\n",
       " '12,\"Egilsstadir\",\"Egilsstadir\",\"Iceland\",\"EGS\",\"BIEG\",65.283333,-14.401389,76,0,\"N\",\"Atlantic/Reykjavik\"',\n",
       " '13,\"Hornafjordur\",\"Hofn\",\"Iceland\",\"HFN\",\"BIHN\",64.295556,-15.227222,24,0,\"N\",\"Atlantic/Reykjavik\"',\n",
       " '14,\"Husavik\",\"Husavik\",\"Iceland\",\"HZK\",\"BIHU\",65.952328,-17.425978,48,0,\"N\",\"Atlantic/Reykjavik\"',\n",
       " '15,\"Isafjordur\",\"Isafjordur\",\"Iceland\",\"IFJ\",\"BIIS\",66.058056,-23.135278,8,0,\"N\",\"Atlantic/Reykjavik\"',\n",
       " '16,\"Keflavik International Airport\",\"Keflavik\",\"Iceland\",\"KEF\",\"BIKF\",63.985,-22.605556,171,0,\"N\",\"Atlantic/Reykjavik\"',\n",
       " '17,\"Patreksfjordur\",\"Patreksfjordur\",\"Iceland\",\"PFJ\",\"BIPA\",65.555833,-23.965,11,0,\"N\",\"Atlantic/Reykjavik\"',\n",
       " '18,\"Reykjavik\",\"Reykjavik\",\"Iceland\",\"RKV\",\"BIRK\",64.13,-21.940556,48,0,\"N\",\"Atlantic/Reykjavik\"',\n",
       " '19,\"Siglufjordur\",\"Siglufjordur\",\"Iceland\",\"SIJ\",\"BISI\",66.133333,-18.916667,10,0,\"N\",\"Atlantic/Reykjavik\"',\n",
       " '20,\"Vestmannaeyjar\",\"Vestmannaeyjar\",\"Iceland\",\"VEY\",\"BIVM\",63.424303,-20.278875,326,0,\"N\",\"Atlantic/Reykjavik\"']"
      ]
     },
     "execution_count": 8,
     "metadata": {},
     "output_type": "execute_result"
    }
   ],
   "source": [
    "from pyspark import SparkContext\n",
    "sc = SparkContext.getOrCreate ()\n",
    "# remember to change the path/location of file\n",
    "airports = sc.textFile(\"c:/pe/airports.txt\")\n",
    "# print(type(airports))\n",
    "airports.take(20)\n",
    "# print(type(airports))\n",
    "#.take() : shows content and structure/metadata for a limited number of rows for a very large dataset.\n",
    "\n"
   ]
  },
  {
   "cell_type": "code",
   "execution_count": 9,
   "metadata": {},
   "outputs": [
    {
     "data": {
      "text/html": [
       "\n",
       "        <div>\n",
       "            <p><b>SparkContext</b></p>\n",
       "\n",
       "            <p><a href=\"http://Robel-Dell:4040\">Spark UI</a></p>\n",
       "\n",
       "            <dl>\n",
       "              <dt>Version</dt>\n",
       "                <dd><code>v3.4.0</code></dd>\n",
       "              <dt>Master</dt>\n",
       "                <dd><code>local[*]</code></dd>\n",
       "              <dt>AppName</dt>\n",
       "                <dd><code>YourAppName</code></dd>\n",
       "            </dl>\n",
       "        </div>\n",
       "        "
      ],
      "text/plain": [
       "<SparkContext master=local[*] appName=YourAppName>"
      ]
     },
     "execution_count": 9,
     "metadata": {},
     "output_type": "execute_result"
    }
   ],
   "source": [
    "sc"
   ]
  },
  {
   "cell_type": "code",
   "execution_count": 10,
   "metadata": {},
   "outputs": [
    {
     "name": "stdout",
     "output_type": "stream",
     "text": [
      "Filter RDD -> ['1107,\"Bole Intl\",\"Addis Ababa\",\"Ethiopia\",\"ADD\",\"HAAB\",8.977889,38.799319,7656,3,\"U\",\"Africa/Addis_Ababa\"']\n"
     ]
    }
   ],
   "source": [
    "sc = SparkContext.getOrCreate ()\n",
    "airports = sc.textFile(\"C:/PE/airports.txt\")\n",
    "us_airports = airports.filter (lambda line: \"1107\" in line.split(\",\")[0])\n",
    "filtered = us_airports.collect()\n",
    "print (\"Filter RDD -> %s\" % (filtered))\n"
   ]
  },
  {
   "cell_type": "code",
   "execution_count": 11,
   "metadata": {},
   "outputs": [
    {
     "name": "stdout",
     "output_type": "stream",
     "text": [
      "('scala', 1)\n",
      "('java', 1)\n",
      "('hadoop', 1)\n",
      "('spark', 1)\n",
      "('akka', 1)\n",
      "('spark vs hadoop', 1)\n",
      "('pyspark', 1)\n",
      "('Java', 1)\n"
     ]
    }
   ],
   "source": [
    "\n",
    "sc = SparkContext.getOrCreate ()\n",
    "data = [\"scala\",\"java\",\"hadoop\",\"spark\",\"akka\",\"spark vs hadoop\",\"pyspark\",\"Java\"]\n",
    "rdd=sc.parallelize(data)\n",
    "rdd2=rdd.map(lambda x: (x,1))\n",
    "for element in rdd2.collect():\n",
    "    print(element)\n"
   ]
  },
  {
   "cell_type": "code",
   "execution_count": 12,
   "metadata": {},
   "outputs": [
    {
     "name": "stdout",
     "output_type": "stream",
     "text": [
      "[['The', 'history', 'of', 'New', 'York', 'begins', 'around', '10,000', 'BC,', 'when', 'the', 'first', 'Native', 'Americans', 'arrived.', 'By', '1100', 'AD,', 'New', \"York's\", 'main', 'native', 'cultures,', 'the', 'Iroquoian', 'and', 'Algonquian,', 'had', 'developed.', 'European', 'discovery', 'of', 'New', 'York', 'was', 'led', 'by', 'the', 'French', 'in', '1524', 'and', 'the', 'first', 'land', 'claim', 'came', 'in', '1609', 'by', 'the', 'Dutch.', 'As', 'part', 'of', 'New', 'Netherland,', 'the', 'colony', 'was', 'important', 'in', 'the', 'fur', 'trade', 'and', 'eventually', 'became', 'an', 'agricultural', 'resource', 'thanks', 'to', 'the', 'patroon', 'system.', 'In', '1626', 'the', 'Dutch', 'bought', 'the', 'island', 'of', 'Manhattan', 'from', 'Native', 'Americans.[1]', 'In', '1664,', 'England', 'renamed', 'the', 'colony', 'New', 'York,', 'after', 'the', 'Duke', 'of', 'York', '(later', 'James', 'II', '&', 'VII.)', 'New', 'York', 'City', 'gained', 'prominence', 'in', 'the', '18th', 'century', 'as', 'a', 'major', 'trading', 'port', 'in', 'the', 'Thirteen', 'Colonies.'], [''], ['New', 'York', 'played', 'a', 'pivotal', 'role', 'during', 'the', 'American', 'Revolution', 'and', 'subsequent', 'war.', 'The', 'Stamp', 'Act', 'Congress', 'in', '1765', 'brought', 'together', 'representatives', 'from', 'across', 'the', 'Thirteen', 'Colonies', 'to', 'form', 'a', 'unified', 'response', 'to', 'British', 'policies.', 'The', 'Sons', 'of', 'Liberty', 'were', 'active', 'in', 'New', 'York', 'City', 'to', 'challenge', 'British', 'authority.', 'After', 'a', 'major', 'loss', 'at', 'the', 'Battle', 'of', 'Long', 'Island,', 'the', 'Continental', 'Army', 'suffered', 'a', 'series', 'of', 'additional', 'defeats', 'that', 'forced', 'a', 'retreat', 'from', 'the', 'New', 'York', 'City', 'area,', 'leaving', 'the', 'strategic', 'port', 'and', 'harbor', 'to', 'the', 'British', 'army', 'and', 'navy', 'as', 'their', 'North', 'American', 'base', 'of', 'operations', 'for', 'the', 'rest', 'of', 'the', 'war.', 'The', 'Battle', 'of', 'Saratoga', 'was', 'the', 'turning', 'point', 'of', 'the', 'war', 'in', 'favor', 'of', 'the', 'Americans,', 'convincing', 'France', 'to', 'formally', 'ally', 'with', 'them.', 'New', \"York's\", 'constitution', 'was', 'adopted', 'in', '1777,', 'and', 'strongly', 'influenced', 'the', 'United', 'States', 'Constitution.', 'New', 'York', 'City', 'was', 'the', 'national', 'capital', 'at', 'various', 'times', 'between', '1785', 'and', '1790,', 'where', 'the', 'Bill', 'of', 'Rights', 'was', 'drafted.', 'Albany', 'became', 'the', 'permanent', 'state', 'capital', 'in', '1797.', 'In', '1787,', 'New', 'York', 'became', 'the', 'eleventh', 'state', 'to', 'ratify', 'the', 'United', 'States', 'Constitution.'], [''], ['New', 'York', 'hosted', 'significant', 'transportation', 'advancements', 'in', 'the', '19th', 'century,', 'including', 'the', 'first', 'steamboat', 'line', 'in', '1807,', 'the', 'Erie', 'Canal', 'in', '1825,', 'and', \"America's\", 'first', 'regularly', 'scheduled', 'rail', 'service', 'in', '1831.', 'These', 'advancements', 'led', 'to', 'the', 'expanded', 'settlement', 'of', 'western', 'New', 'York', 'and', 'trade', 'ties', 'to', 'the', 'Midwest', 'settlements', 'around', 'the', 'Great', 'Lakes.'], [''], ['Due', 'to', 'New', 'York', \"City's\", 'trade', 'ties', 'to', 'the', 'South,', 'there', 'were', 'numerous', 'southern', 'sympathizers', 'in', 'the', 'early', 'days', 'of', 'the', 'American', 'Civil', 'War', 'and', 'the', 'mayor', 'proposed', 'secession.', 'Far', 'from', 'any', 'of', 'the', 'battles,', 'New', 'York', 'ultimately', 'sent', 'the', 'most', 'men', 'and', 'money', 'to', 'support', 'the', 'Union', 'cause.', 'Thereafter,', 'the', 'state', 'helped', 'create', 'the', 'industrial', 'age', 'and', 'consequently', 'was', 'home', 'to', 'some', 'of', 'the', 'first', 'labor', 'unions.'], [''], ['During', 'the', '19th', 'century,', 'New', 'York', 'City', 'became', 'the', 'main', 'entry', 'point', 'for', 'European', 'immigrants', 'to', 'the', 'United', 'States,', 'beginning', 'with', 'a', 'wave', 'of', 'Irish', 'during', 'their', 'Great', 'Famine.', 'Millions', 'came', 'through', 'Castle', 'Clinton', 'in', 'Battery', 'Park', 'before', 'Ellis', 'Island', 'opened', 'in', '1892', 'to', 'welcome', 'millions', 'more,', 'increasingly', 'from', 'eastern', 'and', 'southern', 'Europe.', 'The', 'Statue', 'of', 'Liberty', 'opened', 'in', '1886', 'and', 'became', 'a', 'symbol', 'of', 'hope.', 'New', 'York', 'boomed', 'during', 'the', 'Roaring', 'Twenties,', 'before', 'the', 'Wall', 'Street', 'Crash', 'of', '1929,', 'and', 'skyscrapers', 'expressed', 'the', 'energy', 'of', 'the', 'city.', 'New', 'York', 'City', 'was', 'the', 'site', 'of', 'successive', 'tallest', 'buildings', 'in', 'the', 'world', 'from', '1913–74.'], [''], ['The', 'buildup', 'of', 'defense', 'industries', 'for', 'World', 'War', 'II', 'turned', 'around', 'the', \"state's\", 'economy', 'from', 'the', 'Great', 'Depression,', 'as', 'hundreds', 'of', 'thousands', 'worked', 'to', 'defeat', 'the', 'Axis', 'powers.', 'Following', 'the', 'war,', 'the', 'state', 'experienced', 'significant', 'suburbanization', 'around', 'all', 'the', 'major', 'cities,', 'and', 'most', 'central', 'cities', 'shrank.', 'The', 'Thruway', 'system', 'opened', 'in', '1956,', 'signalling', 'another', 'era', 'of', 'transportation', 'advances.'], [''], ['Following', 'a', 'period', 'of', 'near–bankruptcy', 'in', 'the', 'late', '1970s,', 'New', 'York', 'City', 'renewed', 'its', 'stature', 'as', 'a', 'cultural', 'center,', 'attracted', 'more', 'immigration,', 'and', 'hosted', 'the', 'development', 'of', 'new', 'music', 'styles.', 'The', 'city', 'developed', 'from', 'publishing', 'to', 'become', 'a', 'media', 'capital', 'over', 'the', 'second', 'half', 'of', 'the', '20th', 'century,', 'hosting', 'most', 'national', 'news', 'channels', 'and', 'broadcasts.', 'Some', 'of', 'its', 'newspapers', 'became', 'nationally', 'and', 'globallyrenowned.', 'The', \"state's\", 'manufacturing', 'base', 'eroded', 'with', 'the', 'restructuring', 'of', 'industry,', 'and', 'the', 'state', 'transitioned', 'into', 'service', 'industries.'], [''], ['The', 'September', '11', 'attacks', 'of', '2001', 'destroyed', 'the', 'World', 'Trade', 'Center,', 'killing', 'almost', '3,000', 'people;', 'they', 'were', 'the', 'largest', 'terrorist', 'attacks', 'on', 'United', 'States', 'soil.']]\n"
     ]
    }
   ],
   "source": [
    "\n",
    "sc = SparkContext.getOrCreate ()\n",
    "dataRDD = sc.textFile(\"C:/PE/word_count.txt\")\n",
    "words=dataRDD.map(lambda x: x.split(\" \"))\n",
    "print(words.collect())\n"
   ]
  },
  {
   "cell_type": "code",
   "execution_count": 13,
   "metadata": {},
   "outputs": [
    {
     "name": "stdout",
     "output_type": "stream",
     "text": [
      "694\n",
      "defaultdict(<class 'int'>, {'The': 10, 'history': 1, 'of': 33, 'New': 20, 'York': 17, 'begins': 1, 'around': 4, '10,000': 1, 'BC,': 1, 'when': 1, 'the': 71, 'first': 5, 'Native': 2, 'Americans': 1, 'arrived.': 1, 'By': 1, '1100': 1, 'AD,': 1, \"York's\": 2, 'main': 2, 'native': 1, 'cultures,': 1, 'Iroquoian': 1, 'and': 21, 'Algonquian,': 1, 'had': 1, 'developed.': 1, 'European': 2, 'discovery': 1, 'was': 8, 'led': 2, 'by': 2, 'French': 1, 'in': 21, '1524': 1, 'land': 1, 'claim': 1, 'came': 2, '1609': 1, 'Dutch.': 1, 'As': 1, 'part': 1, 'Netherland,': 1, 'colony': 2, 'important': 1, 'fur': 1, 'trade': 3, 'eventually': 1, 'became': 6, 'an': 1, 'agricultural': 1, 'resource': 1, 'thanks': 1, 'to': 17, 'patroon': 1, 'system.': 1, 'In': 3, '1626': 1, 'Dutch': 1, 'bought': 1, 'island': 1, 'Manhattan': 1, 'from': 8, 'Americans.[1]': 1, '1664,': 1, 'England': 1, 'renamed': 1, 'York,': 1, 'after': 1, 'Duke': 1, '(later': 1, 'James': 1, 'II': 2, '&': 1, 'VII.)': 1, 'City': 7, 'gained': 1, 'prominence': 1, '18th': 1, 'century': 1, 'as': 4, 'a': 11, 'major': 3, 'trading': 1, 'port': 2, 'Thirteen': 2, 'Colonies.': 1, 'played': 1, 'pivotal': 1, 'role': 1, 'during': 3, 'American': 3, 'Revolution': 1, 'subsequent': 1, 'war.': 2, 'Stamp': 1, 'Act': 1, 'Congress': 1, '1765': 1, 'brought': 1, 'together': 1, 'representatives': 1, 'across': 1, 'Colonies': 1, 'form': 1, 'unified': 1, 'response': 1, 'British': 3, 'policies.': 1, 'Sons': 1, 'Liberty': 2, 'were': 3, 'active': 1, 'challenge': 1, 'authority.': 1, 'After': 1, 'loss': 1, 'at': 2, 'Battle': 2, 'Long': 1, 'Island,': 1, 'Continental': 1, 'Army': 1, 'suffered': 1, 'series': 1, 'additional': 1, 'defeats': 1, 'that': 1, 'forced': 1, 'retreat': 1, 'area,': 1, 'leaving': 1, 'strategic': 1, 'harbor': 1, 'army': 1, 'navy': 1, 'their': 2, 'North': 1, 'base': 2, 'operations': 1, 'for': 3, 'rest': 1, 'Saratoga': 1, 'turning': 1, 'point': 2, 'war': 1, 'favor': 1, 'Americans,': 1, 'convincing': 1, 'France': 1, 'formally': 1, 'ally': 1, 'with': 3, 'them.': 1, 'constitution': 1, 'adopted': 1, '1777,': 1, 'strongly': 1, 'influenced': 1, 'United': 4, 'States': 3, 'Constitution.': 2, 'national': 2, 'capital': 3, 'various': 1, 'times': 1, 'between': 1, '1785': 1, '1790,': 1, 'where': 1, 'Bill': 1, 'Rights': 1, 'drafted.': 1, 'Albany': 1, 'permanent': 1, 'state': 5, '1797.': 1, '1787,': 1, 'eleventh': 1, 'ratify': 1, 'hosted': 2, 'significant': 2, 'transportation': 2, 'advancements': 2, '19th': 2, 'century,': 3, 'including': 1, 'steamboat': 1, 'line': 1, '1807,': 1, 'Erie': 1, 'Canal': 1, '1825,': 1, \"America's\": 1, 'regularly': 1, 'scheduled': 1, 'rail': 1, 'service': 2, '1831.': 1, 'These': 1, 'expanded': 1, 'settlement': 1, 'western': 1, 'ties': 2, 'Midwest': 1, 'settlements': 1, 'Great': 3, 'Lakes.': 1, 'Due': 1, \"City's\": 1, 'South,': 1, 'there': 1, 'numerous': 1, 'southern': 2, 'sympathizers': 1, 'early': 1, 'days': 1, 'Civil': 1, 'War': 2, 'mayor': 1, 'proposed': 1, 'secession.': 1, 'Far': 1, 'any': 1, 'battles,': 1, 'ultimately': 1, 'sent': 1, 'most': 3, 'men': 1, 'money': 1, 'support': 1, 'Union': 1, 'cause.': 1, 'Thereafter,': 1, 'helped': 1, 'create': 1, 'industrial': 1, 'age': 1, 'consequently': 1, 'home': 1, 'some': 1, 'labor': 1, 'unions.': 1, 'During': 1, 'entry': 1, 'immigrants': 1, 'States,': 1, 'beginning': 1, 'wave': 1, 'Irish': 1, 'Famine.': 1, 'Millions': 1, 'through': 1, 'Castle': 1, 'Clinton': 1, 'Battery': 1, 'Park': 1, 'before': 2, 'Ellis': 1, 'Island': 1, 'opened': 3, '1892': 1, 'welcome': 1, 'millions': 1, 'more,': 1, 'increasingly': 1, 'eastern': 1, 'Europe.': 1, 'Statue': 1, '1886': 1, 'symbol': 1, 'hope.': 1, 'boomed': 1, 'Roaring': 1, 'Twenties,': 1, 'Wall': 1, 'Street': 1, 'Crash': 1, '1929,': 1, 'skyscrapers': 1, 'expressed': 1, 'energy': 1, 'city.': 1, 'site': 1, 'successive': 1, 'tallest': 1, 'buildings': 1, 'world': 1, '1913–74.': 1, 'buildup': 1, 'defense': 1, 'industries': 1, 'World': 2, 'turned': 1, \"state's\": 2, 'economy': 1, 'Depression,': 1, 'hundreds': 1, 'thousands': 1, 'worked': 1, 'defeat': 1, 'Axis': 1, 'powers.': 1, 'Following': 2, 'war,': 1, 'experienced': 1, 'suburbanization': 1, 'all': 1, 'cities,': 1, 'central': 1, 'cities': 1, 'shrank.': 1, 'Thruway': 1, 'system': 1, '1956,': 1, 'signalling': 1, 'another': 1, 'era': 1, 'advances.': 1, 'period': 1, 'near–bankruptcy': 1, 'late': 1, '1970s,': 1, 'renewed': 1, 'its': 2, 'stature': 1, 'cultural': 1, 'center,': 1, 'attracted': 1, 'more': 1, 'immigration,': 1, 'development': 1, 'new': 1, 'music': 1, 'styles.': 1, 'city': 1, 'developed': 1, 'publishing': 1, 'become': 1, 'media': 1, 'over': 1, 'second': 1, 'half': 1, '20th': 1, 'hosting': 1, 'news': 1, 'channels': 1, 'broadcasts.': 1, 'Some': 1, 'newspapers': 1, 'nationally': 1, 'globallyrenowned.': 1, 'manufacturing': 1, 'eroded': 1, 'restructuring': 1, 'industry,': 1, 'transitioned': 1, 'into': 1, 'industries.': 1, 'September': 1, '11': 1, 'attacks': 2, '2001': 1, 'destroyed': 1, 'Trade': 1, 'Center,': 1, 'killing': 1, 'almost': 1, '3,000': 1, 'people;': 1, 'they': 1, 'largest': 1, 'terrorist': 1, 'on': 1, 'soil.': 1})\n"
     ]
    }
   ],
   "source": [
    "\n",
    "sc = SparkContext.getOrCreate ()\n",
    "lines = sc.textFile(\"C:/PE/word_count.txt\")\n",
    "words = lines.flatMap(lambda l:l.split())\n",
    "total_count = words.count()\n",
    "print(total_count)\n",
    "unique_word_counts = words.countByValue()\n",
    "print(unique_word_counts)\n"
   ]
  },
  {
   "cell_type": "code",
   "execution_count": 14,
   "metadata": {},
   "outputs": [
    {
     "name": "stdout",
     "output_type": "stream",
     "text": [
      "Sum of numbers is :  677\n"
     ]
    }
   ],
   "source": [
    "sampledata = sc.parallelize([14,21,88,99,455]);\n",
    "#aggregate numbers using addition operator\n",
    "sum = sampledata.reduce(lambda a,b: a+b); \n",
    "print(\"Sum of numbers is : \", sum);\n"
   ]
  },
  {
   "cell_type": "code",
   "execution_count": 15,
   "metadata": {},
   "outputs": [
    {
     "name": "stdout",
     "output_type": "stream",
     "text": [
      "4218\n"
     ]
    }
   ],
   "source": [
    "lines = sc.textFile(\"C:/PE/word_count.txt\")\n",
    "wordlength =  lines.map(lambda l: len (l))\n",
    "doclength  = wordlength.reduce (lambda a,b: a+b)\n",
    "print(doclength)\n"
   ]
  },
  {
   "cell_type": "code",
   "execution_count": 16,
   "metadata": {},
   "outputs": [
    {
     "name": "stdout",
     "output_type": "stream",
     "text": [
      "694\n",
      "defaultdict(<class 'int'>, {'The': 10, 'history': 1, 'of': 33, 'New': 20, 'York': 17, 'begins': 1, 'around': 4, '10,000': 1, 'BC,': 1, 'when': 1, 'the': 71, 'first': 5, 'Native': 2, 'Americans': 1, 'arrived.': 1, 'By': 1, '1100': 1, 'AD,': 1, \"York's\": 2, 'main': 2, 'native': 1, 'cultures,': 1, 'Iroquoian': 1, 'and': 21, 'Algonquian,': 1, 'had': 1, 'developed.': 1, 'European': 2, 'discovery': 1, 'was': 8, 'led': 2, 'by': 2, 'French': 1, 'in': 21, '1524': 1, 'land': 1, 'claim': 1, 'came': 2, '1609': 1, 'Dutch.': 1, 'As': 1, 'part': 1, 'Netherland,': 1, 'colony': 2, 'important': 1, 'fur': 1, 'trade': 3, 'eventually': 1, 'became': 6, 'an': 1, 'agricultural': 1, 'resource': 1, 'thanks': 1, 'to': 17, 'patroon': 1, 'system.': 1, 'In': 3, '1626': 1, 'Dutch': 1, 'bought': 1, 'island': 1, 'Manhattan': 1, 'from': 8, 'Americans.[1]': 1, '1664,': 1, 'England': 1, 'renamed': 1, 'York,': 1, 'after': 1, 'Duke': 1, '(later': 1, 'James': 1, 'II': 2, '&': 1, 'VII.)': 1, 'City': 7, 'gained': 1, 'prominence': 1, '18th': 1, 'century': 1, 'as': 4, 'a': 11, 'major': 3, 'trading': 1, 'port': 2, 'Thirteen': 2, 'Colonies.': 1, 'played': 1, 'pivotal': 1, 'role': 1, 'during': 3, 'American': 3, 'Revolution': 1, 'subsequent': 1, 'war.': 2, 'Stamp': 1, 'Act': 1, 'Congress': 1, '1765': 1, 'brought': 1, 'together': 1, 'representatives': 1, 'across': 1, 'Colonies': 1, 'form': 1, 'unified': 1, 'response': 1, 'British': 3, 'policies.': 1, 'Sons': 1, 'Liberty': 2, 'were': 3, 'active': 1, 'challenge': 1, 'authority.': 1, 'After': 1, 'loss': 1, 'at': 2, 'Battle': 2, 'Long': 1, 'Island,': 1, 'Continental': 1, 'Army': 1, 'suffered': 1, 'series': 1, 'additional': 1, 'defeats': 1, 'that': 1, 'forced': 1, 'retreat': 1, 'area,': 1, 'leaving': 1, 'strategic': 1, 'harbor': 1, 'army': 1, 'navy': 1, 'their': 2, 'North': 1, 'base': 2, 'operations': 1, 'for': 3, 'rest': 1, 'Saratoga': 1, 'turning': 1, 'point': 2, 'war': 1, 'favor': 1, 'Americans,': 1, 'convincing': 1, 'France': 1, 'formally': 1, 'ally': 1, 'with': 3, 'them.': 1, 'constitution': 1, 'adopted': 1, '1777,': 1, 'strongly': 1, 'influenced': 1, 'United': 4, 'States': 3, 'Constitution.': 2, 'national': 2, 'capital': 3, 'various': 1, 'times': 1, 'between': 1, '1785': 1, '1790,': 1, 'where': 1, 'Bill': 1, 'Rights': 1, 'drafted.': 1, 'Albany': 1, 'permanent': 1, 'state': 5, '1797.': 1, '1787,': 1, 'eleventh': 1, 'ratify': 1, 'hosted': 2, 'significant': 2, 'transportation': 2, 'advancements': 2, '19th': 2, 'century,': 3, 'including': 1, 'steamboat': 1, 'line': 1, '1807,': 1, 'Erie': 1, 'Canal': 1, '1825,': 1, \"America's\": 1, 'regularly': 1, 'scheduled': 1, 'rail': 1, 'service': 2, '1831.': 1, 'These': 1, 'expanded': 1, 'settlement': 1, 'western': 1, 'ties': 2, 'Midwest': 1, 'settlements': 1, 'Great': 3, 'Lakes.': 1, 'Due': 1, \"City's\": 1, 'South,': 1, 'there': 1, 'numerous': 1, 'southern': 2, 'sympathizers': 1, 'early': 1, 'days': 1, 'Civil': 1, 'War': 2, 'mayor': 1, 'proposed': 1, 'secession.': 1, 'Far': 1, 'any': 1, 'battles,': 1, 'ultimately': 1, 'sent': 1, 'most': 3, 'men': 1, 'money': 1, 'support': 1, 'Union': 1, 'cause.': 1, 'Thereafter,': 1, 'helped': 1, 'create': 1, 'industrial': 1, 'age': 1, 'consequently': 1, 'home': 1, 'some': 1, 'labor': 1, 'unions.': 1, 'During': 1, 'entry': 1, 'immigrants': 1, 'States,': 1, 'beginning': 1, 'wave': 1, 'Irish': 1, 'Famine.': 1, 'Millions': 1, 'through': 1, 'Castle': 1, 'Clinton': 1, 'Battery': 1, 'Park': 1, 'before': 2, 'Ellis': 1, 'Island': 1, 'opened': 3, '1892': 1, 'welcome': 1, 'millions': 1, 'more,': 1, 'increasingly': 1, 'eastern': 1, 'Europe.': 1, 'Statue': 1, '1886': 1, 'symbol': 1, 'hope.': 1, 'boomed': 1, 'Roaring': 1, 'Twenties,': 1, 'Wall': 1, 'Street': 1, 'Crash': 1, '1929,': 1, 'skyscrapers': 1, 'expressed': 1, 'energy': 1, 'city.': 1, 'site': 1, 'successive': 1, 'tallest': 1, 'buildings': 1, 'world': 1, '1913–74.': 1, 'buildup': 1, 'defense': 1, 'industries': 1, 'World': 2, 'turned': 1, \"state's\": 2, 'economy': 1, 'Depression,': 1, 'hundreds': 1, 'thousands': 1, 'worked': 1, 'defeat': 1, 'Axis': 1, 'powers.': 1, 'Following': 2, 'war,': 1, 'experienced': 1, 'suburbanization': 1, 'all': 1, 'cities,': 1, 'central': 1, 'cities': 1, 'shrank.': 1, 'Thruway': 1, 'system': 1, '1956,': 1, 'signalling': 1, 'another': 1, 'era': 1, 'advances.': 1, 'period': 1, 'near–bankruptcy': 1, 'late': 1, '1970s,': 1, 'renewed': 1, 'its': 2, 'stature': 1, 'cultural': 1, 'center,': 1, 'attracted': 1, 'more': 1, 'immigration,': 1, 'development': 1, 'new': 1, 'music': 1, 'styles.': 1, 'city': 1, 'developed': 1, 'publishing': 1, 'become': 1, 'media': 1, 'over': 1, 'second': 1, 'half': 1, '20th': 1, 'hosting': 1, 'news': 1, 'channels': 1, 'broadcasts.': 1, 'Some': 1, 'newspapers': 1, 'nationally': 1, 'globallyrenowned.': 1, 'manufacturing': 1, 'eroded': 1, 'restructuring': 1, 'industry,': 1, 'transitioned': 1, 'into': 1, 'industries.': 1, 'September': 1, '11': 1, 'attacks': 2, '2001': 1, 'destroyed': 1, 'Trade': 1, 'Center,': 1, 'killing': 1, 'almost': 1, '3,000': 1, 'people;': 1, 'they': 1, 'largest': 1, 'terrorist': 1, 'on': 1, 'soil.': 1})\n"
     ]
    }
   ],
   "source": [
    "from pyspark import SparkContext\n",
    "sc = SparkContext.getOrCreate ()\n",
    "lines = sc.textFile(\"C:/PE/word_count.txt\")\n",
    "words = lines.flatMap(lambda l:l.split())\n",
    "total_count = words.count()\n",
    "print(total_count)\n",
    "unique_word_counts = words.countByValue()\n",
    "print(unique_word_counts)\n"
   ]
  },
  {
   "cell_type": "code",
   "execution_count": 18,
   "metadata": {},
   "outputs": [
    {
     "name": "stdout",
     "output_type": "stream",
     "text": [
      "Join RDD -> [('python', (4, 5)), ('spark', (1, 2))]\n"
     ]
    }
   ],
   "source": [
    "\n",
    "x = sc.parallelize([(\"spark\", 1), (\"python\", 4)])\n",
    "y = sc.parallelize([(\"spark\", 2), (\"python\", 5)])\n",
    "joined = x.join(y)\n",
    "final = joined.collect()\n",
    "print (\"Join RDD -> %s\" % (final))\n"
   ]
  }
 ],
 "metadata": {
  "kernelspec": {
   "display_name": "Python 3",
   "language": "python",
   "name": "python3"
  },
  "language_info": {
   "codemirror_mode": {
    "name": "ipython",
    "version": 3
   },
   "file_extension": ".py",
   "mimetype": "text/x-python",
   "name": "python",
   "nbconvert_exporter": "python",
   "pygments_lexer": "ipython3",
   "version": "3.10.9"
  },
  "orig_nbformat": 4
 },
 "nbformat": 4,
 "nbformat_minor": 2
}
