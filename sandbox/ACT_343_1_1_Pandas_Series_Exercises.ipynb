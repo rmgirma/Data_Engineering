{
  "cells": [
    {
      "attachments": {},
      "cell_type": "markdown",
      "id": "-b0uAd4l815N",
      "metadata": {
        "id": "-b0uAd4l815N"
      },
      "source": [
        "# **Pandas Series Practice Excercises**\n",
        "\n",
        "\n",
        "A pandas Series is a one-dimensional array. It holds any data type supported in Python and uses labels to locate each data value for retrieval. These labels form the index, and they can be strings or integers. A Series is the main data structure in the pandas framework for storing one-dimensional data."
      ]
    },
    {
      "attachments": {},
      "cell_type": "markdown",
      "id": "pysSxlLx8bU5",
      "metadata": {
        "id": "pysSxlLx8bU5"
      },
      "source": [
        "**Common methods used with Pandas Series**\n",
        "\n",
        "\n",
        "*.head(), .name(), .to_frame(), .reset_index(), isin(), .valuecounts(), .index(), .qcut(), .reshape(), .take(), .append(), .tolist(), .get_loc(), .map(), .diff()*\n",
        "\n",
        "\n",
        "---\n",
        "\n",
        "\n",
        "Please refer to the [Pandas Series Documentation](https://pandas.pydata.org/docs/reference/api/pandas.Series.html) for a full list of methods and how to implement them. "
      ]
    },
    {
      "attachments": {},
      "cell_type": "markdown",
      "id": "fc4bd4f0",
      "metadata": {
        "id": "fc4bd4f0"
      },
      "source": [
        "To complete the problems below we first need to import the Pandas and Numpy libraries. If you haven't already installed them, use pip or conda to install them globally or in your virtual environment.\n",
        "\n",
        "\n",
        "* The common alias for pandas is pd.  \n",
        "* The common alias for numpy is np.\n",
        "\n",
        "\n"
      ]
    },
    {
      "cell_type": "code",
      "execution_count": 2,
      "id": "3a3bc97b",
      "metadata": {
        "id": "3a3bc97b"
      },
      "outputs": [],
      "source": [
        "#pip install pandas\n",
        "#pip install numpy \n",
        "\n",
        "import pandas as pd\n",
        "import numpy as np\n",
        "from dateutil.parser import parse\n",
        "import re"
      ]
    },
    {
      "attachments": {},
      "cell_type": "markdown",
      "id": "b8fc4f4a",
      "metadata": {
        "id": "b8fc4f4a"
      },
      "source": [
        "**Problem 1**\n",
        "\n",
        "We can easily convert lists, tuples, dictionaries and numpy arrays into a Pandas Series by directly passing the python object as an arguement to the Series() constructor. We have used the alias pd in the cell above, so we will use pd.Series() to construct our Series object. \n",
        "\n",
        "\n",
        "\n",
        "*  Convert the 3 objects below into 3 seperate Pandas Series objects.\n",
        "*  Use the .head() method to see the first 5 items in each Series\n",
        "\n",
        "\n",
        "\n"
      ]
    },
    {
      "cell_type": "code",
      "execution_count": 3,
      "id": "21b30b4e",
      "metadata": {
        "id": "21b30b4e"
      },
      "outputs": [
        {
          "data": {
            "text/plain": [
              "a     0\n",
              "b     1\n",
              "c     2\n",
              "e     3\n",
              "d     4\n",
              "f     5\n",
              "g     6\n",
              "h     7\n",
              "i     8\n",
              "j     9\n",
              "k    10\n",
              "l    11\n",
              "m    12\n",
              "n    13\n",
              "o    14\n",
              "p    15\n",
              "q    16\n",
              "r    17\n",
              "s    18\n",
              "t    19\n",
              "u    20\n",
              "v    21\n",
              "w    22\n",
              "x    23\n",
              "y    24\n",
              "z    25\n",
              "dtype: int32"
            ]
          },
          "execution_count": 3,
          "metadata": {},
          "output_type": "execute_result"
        }
      ],
      "source": [
        "mylist = list('abcedfghijklmnopqrstuvwxyz')\n",
        "myarr = np.arange(26)\n",
        "mydict = dict(zip(mylist, myarr))\n",
        "\n",
        "ser1= pd.Series(mylist)\n",
        "#ser1.head(20)\n",
        "\n",
        "ser2= pd.Series(myarr)\n",
        "#ser2.head()\n",
        "\n",
        "ser3= pd.Series(mydict)\n",
        "ser3.head(27)"
      ]
    },
    {
      "attachments": {},
      "cell_type": "markdown",
      "id": "4bdd8618",
      "metadata": {
        "id": "4bdd8618"
      },
      "source": [
        "**Problem 2**\n",
        "\n",
        "We can give a name to our Pandas series as a parameter of our Constructor method. \n",
        "\n",
        "*   Use the name parameter to add 'alphabet' as the name of our series.\n",
        "*   Use the .head() method to see the name of our Series displayed\n",
        "\n"
      ]
    },
    {
      "cell_type": "code",
      "execution_count": 4,
      "id": "b18f9c01",
      "metadata": {
        "id": "b18f9c01"
      },
      "outputs": [
        {
          "name": "stdout",
          "output_type": "stream",
          "text": [
            "0     a\n",
            "1     b\n",
            "2     c\n",
            "3     e\n",
            "4     d\n",
            "5     f\n",
            "6     g\n",
            "7     h\n",
            "8     i\n",
            "9     j\n",
            "10    k\n",
            "11    l\n",
            "12    m\n",
            "13    n\n",
            "14    o\n",
            "15    p\n",
            "16    q\n",
            "17    r\n",
            "18    s\n",
            "19    t\n",
            "20    u\n",
            "21    v\n",
            "22    w\n",
            "23    x\n",
            "24    y\n",
            "25    z\n",
            "Name: alphabet, dtype: object\n"
          ]
        }
      ],
      "source": [
        "ser = pd.Series(list('abcedfghijklmnopqrstuvwxyz'), name= 'alphabet')\n",
        "print(ser)"
      ]
    },
    {
      "attachments": {},
      "cell_type": "markdown",
      "id": "9CnM9Q1aGeSh",
      "metadata": {
        "id": "9CnM9Q1aGeSh"
      },
      "source": [
        "**Problem 3**\n",
        "\n",
        "We can also add a name to the series after it is created using the .name() method on our Series object.\n",
        "\n",
        "\n",
        "\n",
        "*   Use the .name attribute to add the name 'alphabet1' to the Series object after it has been created.\n",
        "*   Use the .head() method to verify\n",
        "\n",
        "\n",
        "\n"
      ]
    },
    {
      "cell_type": "code",
      "execution_count": 5,
      "id": "LNTgSTULGmki",
      "metadata": {
        "id": "LNTgSTULGmki"
      },
      "outputs": [
        {
          "data": {
            "text/plain": [
              "0    a\n",
              "1    b\n",
              "2    c\n",
              "3    e\n",
              "4    d\n",
              "Name: alphabet1, dtype: object"
            ]
          },
          "execution_count": 5,
          "metadata": {},
          "output_type": "execute_result"
        }
      ],
      "source": [
        "ser = pd.Series(list('abcedfghijklmnopqrstuvwxyz'))\n",
        "ser.name= 'alphabet1'\n",
        "ser.head()"
      ]
    },
    {
      "attachments": {},
      "cell_type": "markdown",
      "id": "s37iP5fcQ9Nu",
      "metadata": {
        "id": "s37iP5fcQ9Nu"
      },
      "source": [
        "**Problem 4**\n",
        "\n",
        "We can use mathematic operators to perform calculations on two or more series.\n",
        "\n",
        "*   Create a new object that adds the two series below\n",
        "*   Create a new object that subtracts the two series below\n",
        "*   Create a new object that multiplies the two series below\n",
        "*   Create a new object that divides the two series below\n",
        "\n",
        "Make sure you display your outputs.\n",
        "\n",
        "\n",
        "\n"
      ]
    },
    {
      "cell_type": "code",
      "execution_count": 6,
      "id": "8f9oxMC2Rsf2",
      "metadata": {
        "id": "8f9oxMC2Rsf2"
      },
      "outputs": [
        {
          "name": "stdout",
          "output_type": "stream",
          "text": [
            "hi\n",
            "whoops\n",
            "0     3\n",
            "1     7\n",
            "2    11\n",
            "3    15\n",
            "4    19\n",
            "dtype: int64\n",
            "0    1\n",
            "1    1\n",
            "2    1\n",
            "3    1\n",
            "4    1\n",
            "dtype: int64\n",
            "0     2\n",
            "1    12\n",
            "2    30\n",
            "3    56\n",
            "4    90\n",
            "dtype: int64\n",
            "0    2.000000\n",
            "1    1.333333\n",
            "2    1.200000\n",
            "3    1.142857\n",
            "4    1.111111\n",
            "dtype: float64\n"
          ]
        }
      ],
      "source": [
        "ser1= pd.Series([2, 4, 6, 8, 10])\n",
        "ser2= pd.Series([1, 3, 5, 7, 9])\n",
        "print(\"hi\")\n",
        "print(\"whoops\")\n",
        "\n",
        "ser_addition = ser1 + ser2\n",
        "print(ser_addition)\n",
        "\n",
        "ser_subst = ser1 - ser2\n",
        "print(ser_subst)\n",
        "\n",
        "ser_mult = ser1 * ser2\n",
        "print(ser_mult)\n",
        "\n",
        "ser_div = ser1 / ser2\n",
        "print(ser_div)"
      ]
    },
    {
      "attachments": {},
      "cell_type": "markdown",
      "id": "FFFpCBO9SPio",
      "metadata": {
        "id": "FFFpCBO9SPio"
      },
      "source": [
        "**Problem 5**\n",
        "\n",
        "We can use comparison operators to compare elements of two Series.\n",
        "\n",
        "Use the series below to perform the following:\n",
        "\n",
        "\n",
        "*   Check if the elements in ser1 are equal to the elements in ser2\n",
        "*   Check if the elements in ser1 are greater than the elements in ser2\n",
        "*   Check if the elements in ser1 are less than the elements in ser2\n",
        "\n",
        "\n",
        "\n"
      ]
    },
    {
      "cell_type": "code",
      "execution_count": 3,
      "id": "dDqg0fMyTKBl",
      "metadata": {
        "id": "dDqg0fMyTKBl"
      },
      "outputs": [
        {
          "data": {
            "text/plain": [
              "0    False\n",
              "1    False\n",
              "2    False\n",
              "3    False\n",
              "4    False\n",
              "dtype: bool"
            ]
          },
          "execution_count": 3,
          "metadata": {},
          "output_type": "execute_result"
        }
      ],
      "source": [
        "ser1= pd.Series([2, 4, 5, 8, 10])\n",
        "ser2= pd.Series([1, 3, 5, 7, 10])\n",
        "\n",
        "ser1 == ser2\n",
        "ser1 > ser2\n",
        "ser1 < ser2 "
      ]
    },
    {
      "attachments": {},
      "cell_type": "markdown",
      "id": "WNACP_hzVEGO",
      "metadata": {
        "id": "WNACP_hzVEGO"
      },
      "source": [
        "**Problem 6**\n",
        "\n",
        "We can add additional elements to our Pandas Series. Use the Series below to peform the following:\n",
        "\n",
        "\n",
        "*   Create a new Series by using the .append() method to add 'penguin' and 'lion' to the Series object\n",
        "*   Use the .reset_index() method to reset the index values. \n",
        "\n",
        "(Both steps can be done in one line)\n",
        "\n"
      ]
    },
    {
      "cell_type": "code",
      "execution_count": 8,
      "id": "U88-04bTV0Pv",
      "metadata": {
        "id": "U88-04bTV0Pv"
      },
      "outputs": [
        {
          "name": "stdout",
          "output_type": "stream",
          "text": [
            "0         cat\n",
            "1         dog\n",
            "2    elephant\n",
            "3        frog\n",
            "0     penguin\n",
            "1        lion\n",
            "dtype: object\n"
          ]
        }
      ],
      "source": [
        "ser= pd.Series(['cat', 'dog', 'elephant', 'frog'])\n",
        "ser = ser._append(pd.Series(['penguin', 'lion']).reset_index(drop=True))\n",
        "print(ser)"
      ]
    },
    {
      "attachments": {},
      "cell_type": "markdown",
      "id": "J-d-RjpoWv2r",
      "metadata": {
        "id": "J-d-RjpoWv2r"
      },
      "source": [
        "**Problem 7**\n",
        "\n",
        "We can customize the index of our Series by using the 'index' paramater in our Series constructor. Use the Series below to peform the following:\n",
        "\n",
        "\n",
        "*   Set the index to ['A', 'B', 'C', 'D']\n",
        "*   Use the .reindex() method after the Series object is created to change the order of the index to ['B', 'A', 'D', 'C']\n",
        "\n"
      ]
    },
    {
      "cell_type": "code",
      "execution_count": 9,
      "id": "oUhUE4TGXbwA",
      "metadata": {
        "id": "oUhUE4TGXbwA"
      },
      "outputs": [
        {
          "name": "stdout",
          "output_type": "stream",
          "text": [
            "A         cat\n",
            "B         dog\n",
            "C    elephant\n",
            "D        frog\n",
            "dtype: object\n",
            "B         dog\n",
            "A         cat\n",
            "D        frog\n",
            "C    elephant\n",
            "dtype: object\n"
          ]
        }
      ],
      "source": [
        "ser= pd.Series(['cat', 'dog', 'elephant', 'frog'])\n",
        "ser= pd.Series(['cat', 'dog', 'elephant', 'frog'], index=['A', 'B', 'C', 'D'])\n",
        "print(ser)\n",
        "\n",
        "ser = ser.reindex(['B', 'A', 'D', 'C'])\n",
        "print(ser)"
      ]
    },
    {
      "attachments": {},
      "cell_type": "markdown",
      "id": "cdc8d244",
      "metadata": {
        "id": "cdc8d244"
      },
      "source": [
        "**Problem 8**\n",
        "\n",
        "Find the elements in the first series (ser1) not in the second series (ser2).\n",
        "\n",
        "\n",
        "*   Use the single square bracket notation and the .isin() method with ser1 to remove the items present in ser2. This will leave us with only the itmes not present in ser2.\n",
        "\n"
      ]
    },
    {
      "cell_type": "code",
      "execution_count": 5,
      "id": "f1276978",
      "metadata": {
        "id": "f1276978"
      },
      "outputs": [
        {
          "name": "stdout",
          "output_type": "stream",
          "text": [
            "0    1\n",
            "1    2\n",
            "2    3\n",
            "dtype: int64\n"
          ]
        }
      ],
      "source": [
        "ser1 = pd.Series([1, 2, 3, 4, 5])\n",
        "ser2 = pd.Series([4, 5, 6, 7, 8])\n",
        "\n",
        "ser = ser1[~ser1.isin(ser2)]\n",
        "print(ser)"
      ]
    },
    {
      "attachments": {},
      "cell_type": "markdown",
      "id": "DmNC5CliY7I5",
      "metadata": {
        "id": "DmNC5CliY7I5"
      },
      "source": [
        "**Problem 9**\n",
        "\n",
        "Use the Series below to peform the following:\n",
        "*   Use a built-in Pandas method to find the mean of the Series\n",
        "*   Use a built-in Pandas method to find the standard deviation of the Series\n",
        "\n"
      ]
    },
    {
      "cell_type": "code",
      "execution_count": 11,
      "id": "lR7z4OOjZcdm",
      "metadata": {
        "id": "lR7z4OOjZcdm"
      },
      "outputs": [
        {
          "name": "stdout",
          "output_type": "stream",
          "text": [
            "4.818181818181818\n",
            "2.522624895547565\n"
          ]
        }
      ],
      "source": [
        "ser = pd.Series(data = [1,2,3,4,5,6,7,8,9,5,3])\n",
        "ser1 = ser.mean()\n",
        "print(ser1)\n",
        "\n",
        "ser2 = ser.std()\n",
        "print(ser2)\n"
      ]
    },
    {
      "attachments": {},
      "cell_type": "markdown",
      "id": "d336f7dd",
      "metadata": {
        "id": "d336f7dd"
      },
      "source": [
        "**Problem 10**\n",
        "\n",
        "Find the elements in both series that are not in common (remove them if they exist in both).\n",
        "\n",
        "*   Create a new Series using np.union1d()\n",
        "*   Create a new Series using np. intersect1d()\n",
        "*   Use single square bracket notation and the .isin() method to find the final result\n",
        "\n",
        "\n",
        "\n"
      ]
    },
    {
      "cell_type": "code",
      "execution_count": 12,
      "id": "28768232",
      "metadata": {
        "id": "28768232"
      },
      "outputs": [
        {
          "name": "stdout",
          "output_type": "stream",
          "text": [
            "0    1\n",
            "1    2\n",
            "2    3\n",
            "3    4\n",
            "4    5\n",
            "5    6\n",
            "6    7\n",
            "7    8\n",
            "dtype: int64\n",
            "0    4\n",
            "1    5\n",
            "dtype: int64\n"
          ]
        }
      ],
      "source": [
        "ser1 = pd.Series([1, 2, 3, 4, 5])\n",
        "ser2 = pd.Series([4, 5, 6, 7, 8])\n",
        "\n",
        "ser = pd.Series(np.union1d(ser1, ser2))\n",
        "print(ser)\n",
        "\n",
        "ser_inter = pd.Series(np.intersect1d(ser1, ser2))\n",
        "print(ser_inter)"
      ]
    },
    {
      "attachments": {},
      "cell_type": "markdown",
      "id": "5d7188b5",
      "metadata": {
        "id": "5d7188b5"
      },
      "source": [
        "**Problem 11**\n",
        "\n",
        "Find the minimum, max, 25th percentile, and 75th percentile in the series.\n",
        "\n",
        "*   Use np.percentile to find the percentiles above\n",
        "\n",
        "\n",
        "\n"
      ]
    },
    {
      "cell_type": "code",
      "execution_count": 13,
      "id": "5a1a3ce7",
      "metadata": {
        "id": "5a1a3ce7"
      },
      "outputs": [
        {
          "name": "stdout",
          "output_type": "stream",
          "text": [
            "1.5093433130729945\n",
            "15.81629894619872\n",
            "6.725620772638784\n",
            "11.772563483572963\n"
          ]
        }
      ],
      "source": [
        "ser = pd.Series(np.random.normal(10, 5, 25))\n",
        "ser_min = ser.min()\n",
        "ser_max = ser.max()\n",
        "ser25 = np.percentile(ser, 25)\n",
        "ser75 = np.percentile(ser, 75)\n",
        "\n",
        "print(ser_min)\n",
        "print(ser_max)\n",
        "print(ser25)\n",
        "print(ser75)\n"
      ]
    },
    {
      "attachments": {},
      "cell_type": "markdown",
      "id": "2e3c1803",
      "metadata": {
        "id": "2e3c1803"
      },
      "source": [
        "**Problem 12**\n",
        "\n",
        "Obtain the count of each unique item in the series.\n",
        "\n",
        "\n",
        "*   Use the .value_counts() method to find the frequency count of each unique item\n",
        "\n",
        "\n"
      ]
    },
    {
      "cell_type": "code",
      "execution_count": 14,
      "id": "16a2880a",
      "metadata": {
        "id": "16a2880a"
      },
      "outputs": [
        {
          "name": "stdout",
          "output_type": "stream",
          "text": [
            "e    9\n",
            "a    7\n",
            "d    5\n",
            "b    5\n",
            "g    3\n",
            "c    1\n",
            "Name: count, dtype: int64\n",
            "0     e\n",
            "1     d\n",
            "2     e\n",
            "3     g\n",
            "4     d\n",
            "5     d\n",
            "6     e\n",
            "7     e\n",
            "8     b\n",
            "9     e\n",
            "10    e\n",
            "11    a\n",
            "12    a\n",
            "13    b\n",
            "14    d\n",
            "15    a\n",
            "16    b\n",
            "17    a\n",
            "18    e\n",
            "19    a\n",
            "20    c\n",
            "21    b\n",
            "22    g\n",
            "23    g\n",
            "24    d\n",
            "25    b\n",
            "26    e\n",
            "27    e\n",
            "28    a\n",
            "29    a\n",
            "dtype: object\n"
          ]
        }
      ],
      "source": [
        "ser = pd.Series(np.take(list('abcdefgh'), np.random.randint(8, size=30)))\n",
        "ser1 = ser.value_counts()\n",
        "print(ser1)\n",
        "print(ser)"
      ]
    },
    {
      "attachments": {},
      "cell_type": "markdown",
      "id": "449036ea",
      "metadata": {
        "id": "449036ea"
      },
      "source": [
        "**Problem 13**\n",
        "\n",
        "Keep the two most frequent items in the series and change all items that are not those two into \"Other\".\n",
        "\n",
        "\n",
        "\n",
        "*   Use .isin(), .valuecounts(), and .index() to complete the task above\n",
        "\n"
      ]
    },
    {
      "cell_type": "code",
      "execution_count": 6,
      "id": "e86f2a9e",
      "metadata": {
        "id": "e86f2a9e"
      },
      "outputs": [
        {
          "name": "stdout",
          "output_type": "stream",
          "text": [
            "Index([1, 3], dtype='int32')\n",
            "0     Other\n",
            "1         1\n",
            "2         1\n",
            "3         1\n",
            "4         3\n",
            "5         3\n",
            "6         3\n",
            "7         3\n",
            "8         1\n",
            "9         3\n",
            "10        1\n",
            "11        1\n",
            "dtype: object\n"
          ]
        }
      ],
      "source": [
        "np.random.RandomState(100)\n",
        "ser = pd.Series(np.random.randint(1, 5, [12]))\n",
        "\n",
        "ser_cnt = ser.value_counts()\n",
        "ser_freq = ser_cnt.index[:2]\n",
        "print(ser_freq)\n",
        "\n",
        "others = ser.where(ser.isin(ser_freq), \"Other\")\n",
        "print(others)\n"
      ]
    },
    {
      "attachments": {},
      "cell_type": "markdown",
      "id": "b5928875",
      "metadata": {
        "id": "b5928875"
      },
      "source": [
        "**Problem 14**\n",
        "\n",
        "Bin the series below into 10 equal deciles and replace the values with the bin name.\n",
        "\n",
        "*   Use the .qcut() method to complete the task \n",
        "\n",
        "\n"
      ]
    },
    {
      "cell_type": "code",
      "execution_count": 7,
      "id": "979b3d36",
      "metadata": {
        "id": "979b3d36"
      },
      "outputs": [
        {
          "name": "stdout",
          "output_type": "stream",
          "text": [
            "0      Decile 1\n",
            "1      Decile 1\n",
            "2      Decile 2\n",
            "3      Decile 5\n",
            "4      Decile 2\n",
            "5      Decile 3\n",
            "6      Decile 6\n",
            "7     Decile 10\n",
            "8      Decile 5\n",
            "9      Decile 7\n",
            "10     Decile 7\n",
            "11     Decile 3\n",
            "12     Decile 4\n",
            "13     Decile 4\n",
            "14     Decile 8\n",
            "15     Decile 6\n",
            "16     Decile 8\n",
            "17    Decile 10\n",
            "18     Decile 9\n",
            "19     Decile 9\n",
            "dtype: category\n",
            "Categories (10, object): ['Decile 1' < 'Decile 2' < 'Decile 3' < 'Decile 4' ... 'Decile 7' < 'Decile 8' < 'Decile 9' < 'Decile 10']\n"
          ]
        }
      ],
      "source": [
        "ser = pd.Series(np.random.random(20))\n",
        "ser1 = pd.qcut(ser, q=10, labels=['Decile 1', 'Decile 2', 'Decile 3', 'Decile 4', 'Decile 5','Decile 6', 'Decile 7', 'Decile 8', 'Decile 9', 'Decile 10'])\n",
        "\n",
        "print(ser1)\n"
      ]
    },
    {
      "attachments": {},
      "cell_type": "markdown",
      "id": "28c62e92",
      "metadata": {
        "id": "28c62e92"
      },
      "source": [
        "**Problem 15**\n",
        "\n",
        "Find the positions of numbers that are multiples of 3 from Seriees below.\n",
        "\n",
        "*  Use np.argwhere() to complete the task \n",
        "\n",
        "\n"
      ]
    },
    {
      "cell_type": "code",
      "execution_count": 9,
      "id": "7ae884a9",
      "metadata": {
        "id": "7ae884a9"
      },
      "outputs": [
        {
          "name": "stdout",
          "output_type": "stream",
          "text": [
            "0    6\n",
            "1    8\n",
            "2    3\n",
            "3    5\n",
            "4    1\n",
            "5    9\n",
            "6    9\n",
            "dtype: int32\n",
            "[[0]\n",
            " [2]\n",
            " [5]\n",
            " [6]]\n"
          ]
        }
      ],
      "source": [
        "ser = pd.Series(np.random.randint(1, 10, 7))\n",
        "m3 =  np.argwhere(ser % 3 == 0)\n",
        "print(ser)\n",
        "print(m3)"
      ]
    },
    {
      "attachments": {},
      "cell_type": "markdown",
      "id": "7a60f247",
      "metadata": {
        "id": "7a60f247"
      },
      "source": [
        "**Problem 16**\n",
        "\n",
        "From ser, extract the items at positions in list pos.\n",
        "\n",
        "*   Use the .take() method to complete the task\n",
        "\n"
      ]
    },
    {
      "cell_type": "code",
      "execution_count": 18,
      "id": "42338aff",
      "metadata": {
        "id": "42338aff"
      },
      "outputs": [
        {
          "name": "stdout",
          "output_type": "stream",
          "text": [
            "0     a\n",
            "4     e\n",
            "8     i\n",
            "14    o\n",
            "20    u\n",
            "dtype: object\n"
          ]
        }
      ],
      "source": [
        "ser = pd.Series(list('abcdefghijklmnopqrstuvwxyz'))\n",
        "pos = [0, 4, 8, 14, 20]\n",
        "ser1 = ser.take(pos)\n",
        "print(ser1)"
      ]
    },
    {
      "attachments": {},
      "cell_type": "markdown",
      "id": "5da1836c",
      "metadata": {
        "id": "5da1836c"
      },
      "source": [
        "**Problem 17**\n",
        "\n",
        "Stack ser1 and ser2 vertically.\n",
        "\n",
        "*   Use the .append() method to complete the task\n",
        "\n"
      ]
    },
    {
      "cell_type": "code",
      "execution_count": 19,
      "id": "5dfea534",
      "metadata": {
        "id": "5dfea534"
      },
      "outputs": [
        {
          "name": "stdout",
          "output_type": "stream",
          "text": [
            "0    0\n",
            "1    1\n",
            "2    2\n",
            "3    3\n",
            "4    4\n",
            "0    a\n",
            "1    b\n",
            "2    c\n",
            "3    d\n",
            "4    e\n",
            "dtype: object\n"
          ]
        }
      ],
      "source": [
        "ser1 = pd.Series(range(5))\n",
        "ser2 = pd.Series(list('abcde'))\n",
        "\n",
        "ser3 = ser1._append(ser2)\n",
        "print(ser3)"
      ]
    },
    {
      "attachments": {},
      "cell_type": "markdown",
      "id": "c252d7bb",
      "metadata": {
        "id": "c252d7bb"
      },
      "source": [
        "**Problem 18**\n",
        "\n",
        "Get the positions of items of ser2 in ser1 as a list.\n",
        "\n",
        "*   Use list comprehension, pd.Index, and .get_loc() to complete the task\n",
        "\n"
      ]
    },
    {
      "attachments": {},
      "cell_type": "markdown",
      "id": "02ce3d8e",
      "metadata": {},
      "source": [
        "changed .getloc() to .get_loc() "
      ]
    },
    {
      "cell_type": "code",
      "execution_count": 20,
      "id": "da51891e",
      "metadata": {
        "id": "da51891e"
      },
      "outputs": [
        {
          "name": "stdout",
          "output_type": "stream",
          "text": [
            "[5, 4, 0, 8]\n"
          ]
        }
      ],
      "source": [
        "ser1 = pd.Series([10, 9, 6, 5, 3, 1, 12, 8, 13])\n",
        "ser2 = pd.Series([1, 3, 10, 13])\n",
        "ser3 = pd.Index(ser1)\n",
        "position = [ser3.get_loc(val) for val in ser2]\n",
        "print(position)"
      ]
    },
    {
      "attachments": {},
      "cell_type": "markdown",
      "id": "7acf6f79",
      "metadata": {
        "id": "7acf6f79"
      },
      "source": [
        "**Problem 19**\n",
        "\n",
        "Change the first character of each word to upper case in each word of ser.\n",
        "\n",
        "*   Use the .map() method combined with a string method to complete the task\n",
        "\n",
        "\n"
      ]
    },
    {
      "cell_type": "code",
      "execution_count": 21,
      "id": "c210bbe9",
      "metadata": {
        "id": "c210bbe9"
      },
      "outputs": [
        {
          "name": "stdout",
          "output_type": "stream",
          "text": [
            "0      How\n",
            "1       To\n",
            "2     Kick\n",
            "3    Butt?\n",
            "dtype: object\n"
          ]
        }
      ],
      "source": [
        "ser = pd.Series(['how', 'to', 'kick', 'butt?'])\n",
        "# ser_cap = ser.str.capitalize() # this is without using the .map() method\n",
        "ser_cap = ser.map(lambda x: x.capitalize())\n",
        "\n",
        "print(ser_cap)"
      ]
    },
    {
      "attachments": {},
      "cell_type": "markdown",
      "id": "053f198a",
      "metadata": {
        "id": "053f198a"
      },
      "source": [
        "**Problem 20**\n",
        "\n",
        "Calculate the number of characters for each element in the series.\n",
        "\n",
        "*   Use the .map() method combined with a method to find the length of the string to complete the task.\n",
        "\n"
      ]
    },
    {
      "cell_type": "code",
      "execution_count": 17,
      "id": "216f9a3e",
      "metadata": {
        "id": "216f9a3e"
      },
      "outputs": [
        {
          "name": "stdout",
          "output_type": "stream",
          "text": [
            "0    3\n",
            "1    2\n",
            "2    4\n",
            "3    5\n",
            "dtype: int64\n"
          ]
        }
      ],
      "source": [
        "ser = pd.Series(['how', 'to', 'kick', 'butt?'])\n",
        "ser_map = ser.map(len)\n",
        "print(ser_map)"
      ]
    },
    {
      "attachments": {},
      "cell_type": "markdown",
      "id": "a26bcf59",
      "metadata": {
        "id": "a26bcf59"
      },
      "source": [
        "**Problem 21**\n",
        "\n",
        "Caluculate the difference of differences between the consequtive numbers of ser. Dislplay the output as a list.\n",
        "\n",
        "*   Use the .diff() method to the complete the task\n",
        "\n"
      ]
    },
    {
      "cell_type": "code",
      "execution_count": 18,
      "id": "c6dba0cb",
      "metadata": {
        "id": "c6dba0cb"
      },
      "outputs": [
        {
          "name": "stdout",
          "output_type": "stream",
          "text": [
            "0    NaN\n",
            "1    2.0\n",
            "2    3.0\n",
            "3    4.0\n",
            "4    5.0\n",
            "5    6.0\n",
            "6    6.0\n",
            "7    8.0\n",
            "dtype: float64\n",
            "0    NaN\n",
            "1    NaN\n",
            "2    1.0\n",
            "3    1.0\n",
            "4    1.0\n",
            "5    1.0\n",
            "6    0.0\n",
            "7    2.0\n",
            "dtype: float64\n"
          ]
        }
      ],
      "source": [
        "ser = pd.Series([1, 3, 6, 10, 15, 21, 27, 35])\n",
        "ser1 = ser.diff()\n",
        "ser2 = ser1.diff()\n",
        "ser2.tolist()\n",
        "print(ser1)\n",
        "print(ser2)\n",
        "\n"
      ]
    },
    {
      "attachments": {},
      "cell_type": "markdown",
      "id": "c64a2901",
      "metadata": {
        "id": "c64a2901"
      },
      "source": [
        "**Problem 22**\n",
        "\n",
        "Convert the date-strings to a timeseries.\n",
        "\n",
        "*   use the .to_datetime() method to complete the task\n"
      ]
    },
    {
      "cell_type": "code",
      "execution_count": 21,
      "id": "db82de89",
      "metadata": {
        "id": "db82de89"
      },
      "outputs": [
        {
          "name": "stdout",
          "output_type": "stream",
          "text": [
            "0   2010-01-01\n",
            "1          NaT\n",
            "2          NaT\n",
            "3          NaT\n",
            "4          NaT\n",
            "5          NaT\n",
            "dtype: datetime64[ns]\n"
          ]
        }
      ],
      "source": [
        "ser = pd.Series(['01 Jan 2010', '02-02-2011', '20120303', '2013/04/04', '2014-05-05', '2015-06-06T12:20'])\n",
        "ser1 = pd.to_datetime(ser, errors='coerce' )\n",
        "print(ser1)"
      ]
    },
    {
      "attachments": {},
      "cell_type": "markdown",
      "id": "5a5f83c0",
      "metadata": {
        "id": "5a5f83c0"
      },
      "source": [
        "**Problem 23**\n",
        "\n",
        "From dateutil.parser import the parse method to use for the following:\n",
        "\n",
        "*   Create a new object using the .map() method to parse ser\n",
        "*   Create a new list of all the days of the month using the .dt.day() methods from the parsed series\n",
        "*   Create a new list of all the weeks of the year using the .dt.weekofyear() methods from the parsed series\n",
        "*   Create a new list of all of the days of the year using the dt.dayofyear() methods from the parsed series\n",
        "*   Create a new list of all the days of the week using the dt.weekday_name() methods from the parsed series\n",
        "\n",
        "\n",
        "\n"
      ]
    },
    {
      "cell_type": "code",
      "execution_count": 24,
      "id": "4bcc124e",
      "metadata": {
        "id": "4bcc124e"
      },
      "outputs": [
        {
          "name": "stdout",
          "output_type": "stream",
          "text": [
            "[1, 2, 3, 4, 5, 6]\n",
            "[53, 5, 9, 14, 19, 23]\n",
            "[1, 33, 63, 94, 125, 157]\n",
            "['Friday', 'Wednesday', 'Saturday', 'Thursday', 'Monday', 'Saturday']\n"
          ]
        }
      ],
      "source": [
        "ser = pd.Series(['01 Jan 2010', '02-02-2011', '20120303', '2013/04/04', '2014-05-05', '2015-06-06T12:20'])\n",
        "ser = ser.map(lambda x: parse(x))\n",
        "\n",
        "day1 = ser.dt.day.tolist()\n",
        "print(day1)\n",
        "\n",
        "week1 = ser.dt.isocalendar().week.tolist()\n",
        "print(week1)\n",
        "\n",
        "day_year = ser.dt.dayofyear.tolist()\n",
        "print(day_year)\n",
        "\n",
        "day_week = ser.dt.day_name().tolist()\n",
        "print(day_week)"
      ]
    },
    {
      "attachments": {},
      "cell_type": "markdown",
      "id": "3dbb2f54",
      "metadata": {
        "id": "3dbb2f54"
      },
      "source": [
        "**Problem 24**\n",
        "\n",
        "From ser, extract words that contain at least 2 vowels."
      ]
    },
    {
      "cell_type": "code",
      "execution_count": 46,
      "id": "32dec09a",
      "metadata": {
        "id": "32dec09a"
      },
      "outputs": [
        {
          "name": "stdout",
          "output_type": "stream",
          "text": [
            "0     [Apple]\n",
            "1    [Orange]\n",
            "2          []\n",
            "3          []\n",
            "4     [Money]\n",
            "dtype: object\n"
          ]
        }
      ],
      "source": [
        "ser = pd.Series(['Apple', 'Orange', 'Plan', 'Python', 'Money'])\n",
        "ser1 = ser.str.findall(r'\\b\\w*[aeiouAEIOU]\\w*[aeiouAEIOU]\\w*\\b')  # \\b for word \\w* zero or more match\n",
        "print(ser1)"
      ]
    },
    {
      "attachments": {},
      "cell_type": "markdown",
      "id": "44177063",
      "metadata": {
        "id": "44177063"
      },
      "source": [
        "**Problem 25**\n",
        "\n",
        "Extract the valid emails from the series emails. The regex pattern for valid emails is provided as reference."
      ]
    },
    {
      "cell_type": "code",
      "execution_count": 50,
      "id": "3e85fe14",
      "metadata": {
        "id": "3e85fe14"
      },
      "outputs": [
        {
          "name": "stdout",
          "output_type": "stream",
          "text": [
            "0                     []\n",
            "1    [rameses@egypt.com]\n",
            "2            [matt@t.co]\n",
            "3    [narendra@modi.com]\n",
            "dtype: object\n"
          ]
        }
      ],
      "source": [
        "emails = pd.Series(['buying books at amazom.com', 'rameses@egypt.com', 'matt@t.co', 'narendra@modi.com'])\n",
        "pattern ='[A-Za-z0-9._%+-]+@[A-Za-z0-9.-]+\\\\.[A-Za-z]{2,4}'\n",
        "\n",
        "ser1 = emails.str.findall(pattern)\n",
        "print(ser1)"
      ]
    },
    {
      "attachments": {},
      "cell_type": "markdown",
      "id": "66fadf17",
      "metadata": {
        "id": "66fadf17"
      },
      "source": [
        "**Problem 26**\n",
        "\n",
        "Compute the mean of weights of each fruit.\n"
      ]
    },
    {
      "cell_type": "code",
      "execution_count": 51,
      "id": "75855cd1",
      "metadata": {
        "id": "75855cd1"
      },
      "outputs": [
        {
          "name": "stdout",
          "output_type": "stream",
          "text": [
            "[1.0, 2.0, 3.0, 4.0, 5.0, 6.0, 7.0, 8.0, 9.0, 10.0]\n",
            "['banana', 'banana', 'banana', 'carrot', 'banana', 'apple', 'carrot', 'carrot', 'carrot', 'apple']\n"
          ]
        }
      ],
      "source": [
        "fruit = pd.Series(np.random.choice(['apple', 'banana', 'carrot'], 10))\n",
        "weight = pd.Series(np.linspace(1, 10, 10))\n",
        "print(weight.tolist())\n",
        "print(fruit.tolist())\n",
        "#examples\n",
        "#> [1.0, 2.0, 3.0, 4.0, 5.0, 6.0, 7.0, 8.0, 9.0, 10.0]\n",
        "#> ['banana', 'carrot', 'apple', 'carrot', 'carrot', 'apple', 'banana', 'carrot', 'apple', 'carrot']"
      ]
    },
    {
      "attachments": {},
      "cell_type": "markdown",
      "id": "04f5675f",
      "metadata": {
        "id": "04f5675f"
      },
      "source": [
        "**Problem 27**\n",
        "\n",
        "Replace the spaces in my_str with the least frequent character."
      ]
    },
    {
      "cell_type": "code",
      "execution_count": 58,
      "id": "1d4aff8d",
      "metadata": {
        "id": "1d4aff8d"
      },
      "outputs": [
        {
          "name": "stdout",
          "output_type": "stream",
          "text": [
            "dbccdebcabedcgade\n"
          ]
        }
      ],
      "source": [
        "my_str = 'dbc deb abed gade'\n",
        "char_count = {}\n",
        "for char in my_str:\n",
        "    if char != ' ':\n",
        "        char_count[char] = char_count.get(char, 0) + 1\n",
        "\n",
        "least = min(char_count, key=char_count.get)\n",
        "str1 = my_str.replace(' ', least)\n",
        "print(str1)"
      ]
    },
    {
      "attachments": {},
      "cell_type": "markdown",
      "id": "146b95f0",
      "metadata": {
        "id": "146b95f0"
      },
      "source": [
        "Problem 28\n",
        "\n",
        "Create a timeseries starting at ‘2000-01-01’ and 10 weekends (saturdays) after that having random numbers as values."
      ]
    },
    {
      "cell_type": "code",
      "execution_count": 57,
      "id": "e4cd8dd6",
      "metadata": {
        "id": "e4cd8dd6"
      },
      "outputs": [
        {
          "name": "stdout",
          "output_type": "stream",
          "text": [
            "DatetimeIndex(['2000-01-01', '2000-01-08', '2000-01-15', '2000-01-22',\n",
            "               '2000-01-29', '2000-02-05', '2000-02-12', '2000-02-19',\n",
            "               '2000-02-26', '2000-03-04'],\n",
            "              dtype='datetime64[ns]', freq='W-SAT')\n",
            "2000-01-01    0.494328\n",
            "2000-01-08    0.154501\n",
            "2000-01-15    0.208211\n",
            "2000-01-22    0.001703\n",
            "2000-01-29    0.724019\n",
            "2000-02-05    0.820040\n",
            "2000-02-12    0.327463\n",
            "2000-02-19    0.195271\n",
            "2000-02-26    0.371471\n",
            "2000-03-04    0.243004\n",
            "Freq: W-SAT, dtype: float64\n"
          ]
        }
      ],
      "source": [
        "date1 = pd.date_range(start='2000-01-01', end='2000-03-07', freq='W-SAT')\n",
        "print(date1)\n",
        "ser2 = ser1.resample('W-SAT').asfreq()\n",
        "print(ser2)"
      ]
    },
    {
      "attachments": {},
      "cell_type": "markdown",
      "id": "b8a17176",
      "metadata": {
        "id": "b8a17176"
      },
      "source": [
        "Problem 29\n",
        "\n",
        "Series ser has missing dates and values. Make all missing dates appear and fill up with value from previous date.\n",
        "\n",
        "*   Use .resample() and .ffill() to complete the task\n",
        "\n",
        "\n"
      ]
    },
    {
      "cell_type": "code",
      "execution_count": 52,
      "id": "c8a10d5d",
      "metadata": {
        "id": "c8a10d5d"
      },
      "outputs": [
        {
          "name": "stdout",
          "output_type": "stream",
          "text": [
            "2000-01-01     1.0\n",
            "2000-01-02     1.0\n",
            "2000-01-03    10.0\n",
            "2000-01-04    10.0\n",
            "2000-01-05    10.0\n",
            "2000-01-06     3.0\n",
            "2000-01-07     3.0\n",
            "2000-01-08     NaN\n",
            "Freq: D, dtype: float64\n"
          ]
        }
      ],
      "source": [
        "ser = pd.Series([1,10,3,np.nan], index=pd.to_datetime(['2000-01-01', '2000-01-03', '2000-01-06', '2000-01-08']))\n",
        "ser = ser.resample('D').ffill()\n",
        "print(ser)\n",
        "#> 2000-01-01     1.0\n",
        "#> 2000-01-03    10.0\n",
        "#> 2000-01-06     3.0\n",
        "#> 2000-01-08     NaN\n",
        "#> dtype: float64"
      ]
    }
  ],
  "metadata": {
    "colab": {
      "provenance": []
    },
    "kernelspec": {
      "display_name": "my_environment",
      "language": "python",
      "name": "python3"
    },
    "language_info": {
      "codemirror_mode": {
        "name": "ipython",
        "version": 3
      },
      "file_extension": ".py",
      "mimetype": "text/x-python",
      "name": "python",
      "nbconvert_exporter": "python",
      "pygments_lexer": "ipython3",
      "version": "3.10.9"
    },
    "vscode": {
      "interpreter": {
        "hash": "1468b46fbbf336438d2a9c265dd02fb55be29fdd63084011561d11061c2774ae"
      }
    }
  },
  "nbformat": 4,
  "nbformat_minor": 5
}
