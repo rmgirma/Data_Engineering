{
 "cells": [
  {
   "attachments": {},
   "cell_type": "markdown",
   "metadata": {},
   "source": [
    "Week 4: Module 3 - Dictionaries \n",
    "\n",
    "3.1 What is a dictionary? Video\n",
    "3.2 Dictionaries Defined. Reading\n",
    "3.3 Iterating over the Contents of a Dictionary Video\n",
    "3.4 Iterating Over Dictionaries Reading\n",
    "3.5 Dictionaries vs. Lists Video\n",
    "3.6 Study Guide: Dictionary Methods Reading\n",
    "3.7 Practice Quiz: Dictionaries 5 questions\n",
    "\n",
    "\n",
    "\n",
    "V1: What is a Dictionary\n",
    "dictionaries are used to organize elements into collections\n",
    "data inside dictionaries take the form of pairs of keys and values\n",
    "To get a dictionary value we use its corresponding key"
   ]
  },
  {
   "attachments": {},
   "cell_type": "markdown",
   "metadata": {},
   "source": [
    "Slide Deck:\n",
    "https://docs.google.com/presentation/d/1gK11wu6ZIJ9Gn1FZO0pTK7TzeduRLBHR_8hSEO2_s44/\n",
    "\n",
    "Activities\n",
    "https://www.coursera.org/learn/python-crash-course/quiz/r0cVA/practice-quiz-dictionaries\n",
    "\n",
    "https://github.com/ps-manish/GLAB-340.6.1-Dictionary\n",
    "\n",
    "From Slide Deck: \n",
    "https://colab.research.google.com/drive/1EQeu2zCiK3wY1JKYw8nRpdYqVOQ8uTIz?usp=share_link|\n",
    "\n",
    "https://colab.research.google.com/drive/1e0QkeowWMvqM-y_muVFfvlTlobt9B7U0?usp=share_link\n",
    "\n"
   ]
  },
  {
   "attachments": {},
   "cell_type": "markdown",
   "metadata": {},
   "source": [
    "3.1 What is a dictionary? Video Transcript\n",
    "How are you feeling so far? Lists and strings are pretty cool, right? These tools let us do a ton of neat stuff in our code so they can be super fun to experiment with. We're now going to learn about another data type, dictionaries. Like lists, dictionaries are used to organize elements into collections. Unlike lists, you don't access elements inside dictionaries using their position. Instead, the data inside dictionaries take the form of pairs of keys and values. To get a dictionary value we use its corresponding key. Another way these two vary is while in a list the index must be a number, in a dictionary you can use a bunch of different data types as keys, like strings, integers, floats, tuples, and more. The name dictionaries comes from how they work in a similar way to human language dictionaries. In an English language dictionary the word comes with a definition.\n",
    "Play video starting at :1:3 and follow transcript1:03\n",
    "In the language of a Python dictionary, the word would be the key and the definition would be the value. Make sense? Let's check out an example. You can create an empty dictionary in a similar way to creating an empty list, except instead of square brackets dictionaries use curly brackets to define their content. Once again, we can use the type function to check that the variable we've just created is a dictionary x = {} type(x). Creating initialized dictionaries isn't too different from the syntax we used in earlier videos to create initialized lists or tuples. But instead of a series of slots with values in them, we have a series of keys that point at values. Okay, let's check out an example dictionary. We'll call it file_counts = and then {\"jpeg\":10, \"txt\":14, \"csv\":2, \"py\":}23 print(file_counts). In this file_counts dictionary, we've stored keys that are strings, like jpg, that point at integer values, like 10. When creating the dictionary we use colons and between the key and the value and separate each pair by commas. In a dictionary, it's perfectly fine to mix and match the data types of keys and values like this and can be very useful. In this example, we're using a dictionary to store the number of files corresponding to each extension. It makes sense to encode the file extension formatting in a string, while it's natural to represent a count as an integer number. Let's say you want to find out how many text files there are in the dictionary. To do this, you would use the key txt to access its associated value. The syntax to do this may look familiar, since we used something similar in our examples of indexing strings, lists, and tuples.\n",
    "Play video starting at :3:27 and follow transcript3:27\n",
    "File_counts [\"txt\"]. You can also use the in keyword to check if a key is contained in a dictionary. Let's try a couple of keys. \"jpg\" in file_counts, True. \"html\" in file_counts, False. Dictionaries are mutable. You might remember what mutable means from an earlier video. That's right, it means we can add remove and replace entries. To add an entry in a dictionary, just use the square brackets to create the key and assign a new value to it. Let's add a file count of eight for a new CFG file extension and dictionary. file_counts [\"cfg\"] = 8 and then print(file_counts). This brings up an interesting point about dictionaries. What do you think will happen if we try to add a key that already exists in the dictionary? file_counts[\"csv\"] = 17, print(file_counts). When you use a key that already exists to set a value, the value that was already paired with that key is replaced. As you can see in this example, the value associated with the csv key used to be 2, but it's now 17. The keys inside of a dictionary are unique. If we try to store two different values for the same key, we'll just replace one with the other. Last off, we can delete elements from a dictionary with the del keyword by passing the dictionary and the key to the element as if we were trying to access it. del file_counts[\"cfg\"] and print(file_counts). What do you think? Dictionaries seem pretty useful, right? We've now seen how to create a dictionary and how to add, modify, and delete elements stored in the dictionary. Up next, we'll discover some interesting things we can do with them.\n"
   ]
  },
  {
   "cell_type": "code",
   "execution_count": 35,
   "metadata": {},
   "outputs": [
    {
     "name": "stdout",
     "output_type": "stream",
     "text": [
      "<class 'dict'>\n"
     ]
    }
   ],
   "source": [
    "#3.1V\n",
    "#Create an empty dictionary\n",
    "x = {}\n",
    "print(type(x)) #check that the variable is a dictionary\n"
   ]
  },
  {
   "cell_type": "code",
   "execution_count": 1,
   "metadata": {},
   "outputs": [
    {
     "name": "stdout",
     "output_type": "stream",
     "text": [
      "{'jpg': 10, 'txt': 14, 'csv': 2, 'py': 23}\n"
     ]
    }
   ],
   "source": [
    "#Sample Dictionary representing the number of files of a given file type\n",
    "#mix and match data types\n",
    "file_counts = {\"jpg\": 10, \"txt\": 14, \"csv\": 2, \"py\": 23} \n",
    "print(file_counts)\n",
    "# print(type(file_counts))\n"
   ]
  },
  {
   "cell_type": "code",
   "execution_count": 37,
   "metadata": {},
   "outputs": [
    {
     "data": {
      "text/plain": [
       "14"
      ]
     },
     "execution_count": 37,
     "metadata": {},
     "output_type": "execute_result"
    }
   ],
   "source": [
    "file_counts = {\"jpg\": 10, \"txt\": 14, \"csv\": 2, \"py\": 23}\n",
    "file_counts[\"txt\"] #use the key txt to access the associated value.   Similiar in functionality and syntax - use square brackets - to how we index tuples and lists.\n"
   ]
  },
  {
   "cell_type": "code",
   "execution_count": 4,
   "metadata": {},
   "outputs": [
    {
     "name": "stdout",
     "output_type": "stream",
     "text": [
      "True\n",
      "False\n",
      "{'jpg': 10, 'txt': 14, 'csv': 2, 'py': 23, 'bak': 12}\n"
     ]
    }
   ],
   "source": [
    "file_counts = {\"jpg\": 10, \"txt\": 14, \"csv\": 2, \"py\": 23}\n",
    "print(\"jpg\" in file_counts)  # Use the in keyword to check if a key is in a dictionary\n",
    "print(\"html\" in file_counts)\n",
    "\n",
    "#Dictionaries are mutable \n",
    "# to add an entry in a dictionary we use square brackets to create the key and assign a new value to it\n",
    "file_counts[\"bak\"] = 12 #new file type creates a new key\n",
    "print(file_counts)\n",
    "\n",
    "\n"
   ]
  },
  {
   "cell_type": "code",
   "execution_count": 39,
   "metadata": {},
   "outputs": [
    {
     "name": "stdout",
     "output_type": "stream",
     "text": [
      "{'jpg': 10, 'txt': 14, 'csv': 17, 'py': 23, 'cfg': 8}\n"
     ]
    }
   ],
   "source": [
    "file_counts = {'jpg': 10, 'txt': 14, 'csv': 2, 'py': 23, 'cfg': 8}\n",
    "# when you use a key that already exists, the value is replaced by the new value\n",
    "#This is the same way we add a new key/value pair to the end of a dictionary or update and existing key/value pair\n",
    "file_counts[\"csv\"] = 17\n",
    "print(file_counts)\n",
    "\n"
   ]
  },
  {
   "cell_type": "code",
   "execution_count": 40,
   "metadata": {},
   "outputs": [
    {
     "name": "stdout",
     "output_type": "stream",
     "text": [
      "{'jpg': 10, 'txt': 14, 'csv': 17, 'py': 23}\n"
     ]
    }
   ],
   "source": [
    "#Deleting a key deletes the value as well.\n",
    "del file_counts[\"cfg\"]\n",
    "print(file_counts)\n"
   ]
  },
  {
   "cell_type": "markdown",
   "metadata": {},
   "source": [
    "Week 4: Module 3 - Dictionaries\n",
    "3.2 Dictionaries Defined. Reading\n",
    "\n",
    "Dictionaries are another data structure in Python. They’re similar to a list in that they can be used to organize data into collections. However, data in a dictionary isn't accessed based on its position. Data in a dictionary is organized into pairs of keys and values. You use the key to access the corresponding value. Where a list index is always a number, a dictionary key can be a different data type, like a string, integer, float, or even tuples.\n",
    "\n",
    "When creating a dictionary, you use curly brackets: {}. When storing values in a dictionary, the key is specified first, followed by the corresponding value, separated by a colon. For example, animals = {\"bears\": 10, \"lions\": 1, \"tigers\": 2} creates a dictionary with three key value pairs, stored in the variable animals. The key \"bears\" points to the integer value 10, while the key \"lions\" points to the integer value 1, and \"tigers\" points to the integer 2. You can access the values by referencing the key, like this: animals[\"bears\"]. This would return the integer 10, since that’s the corresponding value for this key.\n",
    "\n",
    "You can also check if a key is contained in a dictionary using the in keyword. Just like other uses of this keyword, it will return True if the key is found in the dictionary\n",
    "otherwise it will return False.\n",
    "\n",
    "Dictionaries are mutable, meaning they can be modified by adding, removing, and replacing elements in a dictionary, similar to lists. You can add a new key value pair to a dictionary by assigning a value to the key, like this: animals[\"zebras\"] = 2. This creates the new key in the animal dictionary called zebras, and stores the value 2. You can modify the value of an existing key by doing the same thing. So animals[\"bears\"] = 11 would change the value stored in the bears key from 10 to 11. Lastly, you can remove elements from a dictionary by using the del keyword. By doing del animals[\"lions\"] you would remove the key value pair from the animals dictionary.\n"
   ]
  },
  {
   "attachments": {},
   "cell_type": "markdown",
   "metadata": {},
   "source": [
    "Week 4: Module 3 - Dictionaries\n",
    "3.3 Iterating over the Contents of a Dictionary Video Transcript\n",
    "\n",
    "[MUSIC] It probably won't come as a surprise that, just like with strings lists and tuples, you can use for loops to iterate through the contents of a dictionary. Let's see how this looks in action. So file_counts = {\"jpg\": 10, \"txt\": 14, \"csv\": 2, \"py\": 23 and then}. And then for extension in file_counts: two spaces print extension. So if you use a dictionary in a for loop, the iteration variable will go through the keys in the dictionary. If you want to access the associated values, you can either use the keys as indexes of the dictionary or you can use the items method which returns a tuple for each element in the dictionary. The tuple's first element is the key. Its second element is the value. Let's try that with our example dictionary. For ext amount in file_counts.items(): print(\"there are and then {} files with the .{} extension\".format(amount, ext)). Sometimes you might just be interested in the keys of a dictionary. Other times you might just want the values. You can access both with their corresponding dictionary methods like this. file_counts.keys() file counts.values(). These methods return special data types related to the dictionary, but you don't need to worry about what they are exactly. You just need to iterate them as you would with any sequence. For value in file_counts.values(): print value. So we can use items to get key value pairs, keys to get the keys, and values to get just the values. Not too hard, right?\n",
    "Play video starting at: 2: 49 and follow transcript2: 49\n",
    "Because we know that each key can be present only once, dictionaries are a great tool for counting elements and analyzing frequency. Let's check out a simple example of counting how many times each letter appears in a piece of text.\n",
    "Play video starting at: 3: 4 and follow transcript3: 04\n",
    "In this code, we're first initializing an empty dictionary, then going through each letter in the given string. For each letter, we check if it's not already in the dictionary. And in that case, we initialize an entry in the dictionary with a value of zero. Finally, we increment the count for that letter in the dictionary. To sum up, we've created a dictionary where the keys are each of the letters present in the string and the values are how many times each letter is present. Let's try out a few example strings. Count_letters. Let's say a, count_letters(\"tenant\") Count_letters, and this time we'll say a long string with a lot of letters.\n",
    "Play video starting at: 4: 2 and follow transcript4: 02\n",
    "Here you can see how the dictionary can have any number of entries and the pairs of key values always count how many of each letter there are in the string. Also, do you see how our simple code doesn't distinguish between actual letters and special characters like a space? To only count the letters, we'd need to specify which characters we're taking into account. This technique might seem simple at first, but it can be really useful in a lot of cases. Let's say for example that you're analyzing logs in your server and you want to count how many times each type of error appears in the log file. You could easily do this with a dictionary by using the type of error as the key and then incrementing the associated value each time you come across that error type. Are you starting to see how dictionaries can be a really useful tool when writing scripts? Coming up, we're going to learn how to tell when to use dictionaries and when to use lists.\n"
   ]
  },
  {
   "cell_type": "code",
   "execution_count": 5,
   "metadata": {},
   "outputs": [
    {
     "name": "stdout",
     "output_type": "stream",
     "text": [
      "jpg\n",
      "txt\n",
      "csv\n",
      "py\n",
      "There are 10 files with the .jpg extension\n",
      "There are 10 files with the .jpg extension\n",
      "There are 14 files with the .txt extension\n",
      "There are 14 files with the .txt extension\n",
      "There are 2 files with the .csv extension\n",
      "There are 2 files with the .csv extension\n",
      "There are 23 files with the .py extension\n",
      "There are 23 files with the .py extension\n"
     ]
    }
   ],
   "source": [
    "# 3.3 Iterating over the Contents of a Dictionary Video Code\n",
    "\n",
    "#you can use for loops to iterate through the contents of a dictionary\n",
    "file_counts = {\"jpg\":10, \"txt\":14, \"csv\":2, \"py\":23}\n",
    "\n",
    "# if you use a dictionary in a for loop, the iteration variable will go through the keys in the dictionary\n",
    "for extension in file_counts:\n",
    "    print(extension)\n",
    "\n",
    "\n",
    "# If you want to access the associated values, you can either use the keys as indexes of the dictionary or you can use the items method which returns a tuple for each element in the dictionary. \n",
    "# The tuple's first element is the key. Its second element is the value.\n",
    "for ext, amount in file_counts.items():\n",
    "    print(f\"There are {amount} files with the .{ext} extension\") # NOTE The line below produces the exact same results using the .format method\n",
    "    print(\"There are {} files with the .{} extension\".format(amount, ext))\n",
    "\n"
   ]
  },
  {
   "cell_type": "code",
   "execution_count": 8,
   "metadata": {},
   "outputs": [
    {
     "name": "stdout",
     "output_type": "stream",
     "text": [
      "dict_keys(['jpg', 'txt', 'csv', 'py'])\n",
      "dict_values([10, 14, 2, 23])\n",
      "10\n",
      "14\n",
      "2\n",
      "23\n"
     ]
    }
   ],
   "source": [
    "# The methods below return special data types related to the dictionary\n",
    "\n",
    "print(file_counts.keys())\n",
    "print(file_counts.values())\n",
    "\n",
    "# you can use a for loop to terate them as you would with any sequence.\n",
    "for value in file_counts.values():\n",
    "    print(value)\n",
    "\n",
    "\n"
   ]
  },
  {
   "cell_type": "code",
   "execution_count": 10,
   "metadata": {},
   "outputs": [
    {
     "name": "stdout",
     "output_type": "stream",
     "text": [
      "octopuses have tentacles\n",
      "dolphins have fins\n",
      "rhinos have horns\n",
      "octopuses have tentacles\n",
      "dolphins have fins\n",
      "rhinos have horns\n"
     ]
    }
   ],
   "source": [
    "# Mid Video Question 1 @ approx. 2:50 \n",
    "# explanation\n",
    "cool_beasts = {\"octopuses\": \"tentacles\", \"dolphins\": \"fins\", \"rhinos\": \"horns\"}\n",
    "# This line initializes a dictionary called cool_beasts with three key-value pairs. Each key is a string representing an animal and each value is a string representing a body part that the animal has.\n",
    "\n",
    "\n",
    "for beast, body_part in cool_beasts.items():\n",
    "    print(\"{} have {}\".format(beast, body_part))\n",
    "# This line creates a for loop that iterates through each key-value pair in the cool_beasts dictionary using the .items() method.\n",
    "# On each iteration of the loop, the beast variable is assigned the key(e.g. \"octopuses\") and the body_part variable is assigned the value(e.g. \"tentacles\").\n",
    "# The print() statement inside the loop uses the format() method to insert the values of beast and body_part into a string that reads \"_____ have _____\", where the blank spaces are filled in with the animal name and body part from each iteration of the loop.\n",
    "# So the output shows each animal and the body part that they have.\n",
    "\n",
    "#an alternate way of accessing the index of the tuples from the dictionary\n",
    "cool_beasts = {\"octopuses\": \"tentacles\", \"dolphins\": \"fins\", \"rhinos\": \"horns\"}\n",
    "for beast in cool_beasts.items():\n",
    "    print(\"{} have {}\".format(beast[0], beast[1]))\n"
   ]
  },
  {
   "cell_type": "code",
   "execution_count": 14,
   "metadata": {},
   "outputs": [
    {
     "name": "stdout",
     "output_type": "stream",
     "text": [
      "{'a': 5}\n",
      "{'t': 2, 'e': 1, 'n': 2, 'a': 1}\n",
      "{'a': 2, ' ': 7, 'l': 3, 'o': 3, 'n': 2, 'g': 2, 's': 2, 't': 5, 'r': 2, 'i': 2, 'w': 1, 'h': 1, 'f': 1, 'e': 2}\n",
      "{'M': 1, 'y': 1, ' ': 8, 'z': 1, 'i': 6, 'p': 1, 'c': 1, 'o': 2, 'd': 1, 'e': 2, 's': 2, '6': 1, '1': 2, '0': 1, '2': 1, '.': 1, 'I': 2, 'l': 3, 'v': 1, 'n': 2}\n"
     ]
    }
   ],
   "source": [
    "# Because we know that each key can be present only once, dictionaries are a great tool for counting elements and analyzing frequency.\n",
    "# counting how many times each letter appears in a piece of text.\n",
    "def count_letters(text):\n",
    "    result = {}  # first initializing an empty dictionary\n",
    "    for letter in text:  # then going through each letter in the given string.\n",
    "        if letter not in result:  # we check if it's not already in the dictionary.\n",
    "            result[letter] = 0 # in that case, we initialize an entry in the dictionary with a value of zero.\n",
    "        result[letter] += 1 #increment the count for that letter in the dictionary.\n",
    "    return result\n",
    "\n",
    "#try the custom function out on other strings\n",
    "print(count_letters(\"aaaaa\"))\n",
    "print(count_letters(\"tenant\"))\n",
    "print(count_letters(\"A long string with a lot of letters\".lower())) # Note:  counts all characters, even whitespace\n",
    "print(count_letters(\"My zipcode is 61021.  I live in Illinois\"))  #String with numbers also.  #NOTE!!! Capital letters are different than lower case letters!  \n"
   ]
  },
  {
   "cell_type": "code",
   "execution_count": 41,
   "metadata": {},
   "outputs": [
    {
     "name": "stdout",
     "output_type": "stream",
     "text": [
      "['John', 'Alice', 'JohnDoe']\n",
      "John\n",
      "Alice\n",
      "JohnDoe\n"
     ]
    }
   ],
   "source": [
    "# Valerie's example of a survey response dictionary\n",
    "survey_response = {\n",
    "    'John': 'Yes',\n",
    "    'Jane': 'No',\n",
    "    'Bob': 'Maybe',\n",
    "    'Alice': 'Yes',\n",
    "    'Mike': 'No',\n",
    "    'JohnDoe': 'Yes'\n",
    "}\n",
    "\n",
    "# Using a dictionary comprehension  to return the corresponding key related to a specific value\n",
    "#remember, this comprehension is \"next level\" stuff and often harder to read (by the next programmer)\n",
    "key = [key for key, value in survey_response.items() if value == 'Yes']\n",
    "print(key)  # Output: 'John'\n",
    "\n",
    "# Using a loop to return the corresponding key related to a specific value\n",
    "#much easier to read.  often this is the preferred method.\n",
    "for key, value in survey_response.items():\n",
    "    if value == 'Yes':\n",
    "        print(key)  # Output: \n"
   ]
  },
  {
   "attachments": {},
   "cell_type": "markdown",
   "metadata": {},
   "source": [
    "Week 4: Module 3 - Dictionaries \n",
    "3.4 Iterating Over Dictionaries Reading\n",
    "You can iterate over dictionaries using a for loop, just like with strings, lists, and tuples. This will iterate over the sequence of keys in the dictionary. If you want to access the corresponding values associated with the keys, you could use the keys as indexes. Or you can use the items method on the dictionary, like dictionary.items(). This method returns a tuple for each element in the dictionary, where the first element in the tuple is the key and the second is the value.\n",
    "\n",
    "If you only wanted to access the keys in a dictionary, you could use the keys() method on the dictionary: dictionary.keys(). If you only wanted the values, you could use the values() method: dictionary.values().\n",
    "\n",
    "3.5 Dictionaries vs. Lists Video"
   ]
  },
  {
   "attachments": {},
   "cell_type": "markdown",
   "metadata": {},
   "source": [
    "Week 4: Module 3 - Dictionaries\n",
    "3.6 Study Guide: Dictionary Methods Reading\n",
    "\n",
    "This study guide provides a quick-reference summary of what you learned in this lesson and serves as a guide for the upcoming practice quiz.\n",
    "\n",
    "In the Dictionary segment, you learned about the properties of the Python dictionary data type, how dictionaries differ from lists, how to iterate over the contents of a dictionary, and how to use dictionaries with lists and strings.\n",
    "\n",
    "\n",
    "Knowledge\n",
    "Python dictionaries are used to organize elements into collections. Dictionaries include one or more keys, with one or more values associated with each key.\n",
    "\n",
    "Syntax\n",
    "1\n",
    "my_dictionary = {keyA: value1, value2, keyB: value3, value4}\n"
   ]
  },
  {
   "cell_type": "markdown",
   "metadata": {},
   "source": [
    "\n",
    "# Valerie's NOTE:  #Better presentation showing a dictionary with tuples as values\n",
    "my_dict = {\n",
    "    \"keyA\": (\"value1\", 'value2'),\n",
    "    \"keyB\": (\"value3\", \"value4\"),\n",
    "\n",
    "}\n",
    "\n",
    "#showing how to reference the first index (value2) for the unpacked keyA tuple\n",
    "my_dict['keyA'][1]\n",
    "\n",
    "\n",
    "Operations\n",
    "len(dictionary) - Returns the number of items in a dictionary.\n",
    "\n",
    "for key in dictionary - Iterates over each key in a dictionary.\n",
    "\n",
    "for key, value in dictionary.items() - Iterates over each key, value pair in a dictionary.\n",
    "\n",
    "if key in dictionary - Checks whether a key is in a dictionary.\n",
    "\n",
    "dictionary[key] - Accesses a value using the associated key from a dictionary.\n",
    "\n",
    "dictionary[key] = value - Sets a value associated with a key.\n",
    "\n",
    "del dictionary[key] - Removes a value using the associated key from a dictionary.\n",
    "\n",
    "\n",
    "Methods\n",
    "dictionary.get(key, default) - Returns the value corresponding to a key, or the default value if the specified key is not present.\n",
    "\n",
    "dictionary.keys() - Returns a sequence containing the keys in a dictionary.\n",
    "\n",
    "dictionary.values() - Returns a sequence containing the values in a dictionary.\n",
    "\n",
    "dictionary[key].append(value) - Appends a new value for an existing key.\n",
    "\n",
    "dictionary.update(other_dictionary) - Updates a dictionary with the items from another dictionary. Existing entries are updated\n",
    "new entries are added.\n",
    "\n",
    "dictionary.clear() - Deletes all items from a dictionary.\n",
    "\n",
    "dictionary.copy() - Makes a copy of a dictionary.\n",
    "\n",
    "\n",
    "Dictionaries versus Lists\n",
    "Dictionaries are similar to lists, but there are a few differences:\n",
    "\n",
    "Both dictionaries and lists:\n",
    "are used to organize elements into collections\n",
    "\n",
    "are used to initialize a new dictionary or list, use empty brackets\n",
    "\n",
    "can iterate through the items or elements in the collection\n",
    "and\n",
    "\n",
    "can use a variety of methods and operations to create and change the collections, like removing and inserting items or elements.\n",
    "\n",
    "Dictionaries only:\n",
    "are unordered sets\n",
    "\n",
    "have keys that can be a variety of data types, including strings, integers, floats, tuples\n",
    ".\n",
    "\n",
    "can access dictionary values by keys\n",
    "\n",
    "use square brackets inside curly brackets {[]}\n",
    "\n",
    "use colons between the key and the value(s)\n",
    "\n",
    "use commas to separate each key group and each value within a key group\n",
    "\n",
    "make it quicker and easier for a Python interpreter to find specific elements, as compared to a list.\n",
    "\n",
    "Dictionary Example:\n",
    "123456\n",
    "pet_dictionary = {\"dogs\": [\"Yorkie\", \"Collie\", \"Bulldog\"], \"cats\": [\n",
    "    \"Persian\", \"Scottish Fold\", \"Siberian\"], \"rabbits\": [\"Angora\", \"Holland Lop\", \"Harlequin\"]}\n",
    "\n",
    "\n",
    "print(pet_dictionary.get(\"dogs\", 0))\n",
    "# Should print ['Yorkie', 'Collie', 'Bulldog']\n",
    "\n",
    "Reset\n",
    "Lists only:\n",
    "are ordered sets\n",
    "\n",
    "access list elements by index positions\n",
    "\n",
    "require that these indices be integers\n",
    "\n",
    "use square brackets[]\n",
    "\n",
    "use commas to separate each list element.\n",
    "\n",
    "List Example:\n",
    "123456\n",
    "pet_list = [\"Yorkie\", \"Collie\", \"Bulldog\", \"Persian\",\n",
    "            \"Scottish Fold\", \"Siberian\", \"Angora\", \"Holland Lop\", \"Harlequin\"]\n",
    "\n",
    "\n",
    "print(pet_list[0:3])\n",
    "# Should print ['Yorkie', 'Collie', 'Bulldog']\n",
    "\n",
    "Reset\n",
    "\n",
    "\n",
    "Coding skills\n",
    "Skill Group 1\n",
    "Iterate over the key and value pairs of a dictionary using a for loop with the dictionary.items() method to calculate the sum of the values in a dictionary.\n",
    "\n",
    "1234567891011121314151617181920212223242526\n",
    "# This function returns the total time, with minutes represented as\n",
    "# decimals (example: 1 hour 30 minutes = 1.5), for all end user time\n",
    "# spent accessing a server in a given day.\n",
    "\n",
    "\n",
    "def sum_server_use_time(Server):\n",
    "\n",
    "    # Initialize the variable as a float data type, which will be used\n",
    "    # to hold the sum of the total hours and minutes of server usage by\n",
    "    # end users in a day.\n",
    "\n",
    "\n",
    "Reset\n",
    "\n",
    "Skill Group 2\n",
    "Concatenate a value, a string, and the key for each item in the dictionary and append to the end of a new list[] using the list.append(x) method.\n",
    "\n",
    "Iterate over keys with multiple values from a dictionary using nested for loops with the dictionary.items() method.\n",
    "\n",
    "123456789101112131415161718192021222324252627282930313233\n",
    "# This function receives a dictionary, which contains common employee\n",
    "# last names as keys, and a list of employee first names as values.\n",
    "# The function generates a new list that contains each employees’ full\n",
    "# name (First_name Last_Name). For example, the key \"Garcia\" with the\n",
    "# values [\"Maria\", \"Hugo\", \"Lucia\"] should be converted to a list\n",
    "# that contains [\"Maria Garcia\", \"Hugo Garcia\", \"Lucia Garcia\"].\n",
    "\n",
    "\n",
    "def list_full_names(employee_dictionary):\n",
    "\n",
    "\n",
    "    # Initialize the \"full_names\" variable\n",
    "Reset\n",
    "\n",
    "Skill Group 3\n",
    "\n",
    "Use the dictionary[key] = value operation to associate a value with a key in a dictionary.\n",
    "\n",
    "Iterate over keys with multiple values from a dictionary, using nested for loops and an if -statement, and the dictionary.items() method.\n",
    "\n",
    "Use the dictionary[key].append(value) method to add the key, a string, and the key for each item in the dictionary.\n",
    "\n",
    "123456789101112131415161718192021222324252627282930313233343536\n",
    "# This function receives a dictionary, which contains resource\n",
    "# categories (keys) with a list of available resources (values) for a\n",
    "# company’s IT Department. The resources belong to multiple categories.\n",
    "# The function should reverse the keys and values to show which\n",
    "# categories (values) each resource (key) belongs to.\n",
    "\n",
    "\n",
    "def invert_resource_dict(resource_dictionary):\n",
    "  # Initialize a \"new_dictionary\" variable as a dict data type using\n",
    "  # empty {} curly brackets.\n",
    "\n",
    "\n",
    "Reset\n",
    "\n",
    "Resources\n",
    "For additional information about dictionaries, please visit:\n",
    "\n",
    "Mapping Types — dict - Official python.org documentation for dictionary methods\n",
    "\n",
    "Python Dictionaries - Tutorial with interactive code blocks for practicing using dictionary methods and operations\n"
   ]
  },
  {
   "cell_type": "code",
   "execution_count": 51,
   "metadata": {},
   "outputs": [
    {
     "name": "stdout",
     "output_type": "stream",
     "text": [
      "<class 'tuple'>\n"
     ]
    }
   ],
   "source": [
    "#Valerie's additional thoughts\n",
    "#In Python, a dictionary key can be of any immutable data type such as a string, integer, or tuple. To print the data type of a dictionary key, you can access the key and then use the type() function.\n",
    "\n",
    "#Here's an example code snippet:\n",
    "\n",
    "my_dict = {1: \"one\", \"two\": 2, (3, 4): \"three four\"}\n",
    "key = (3, 4) #assign a variable to a specific key eg: (3,4)\n",
    "#my_dict.keys[\"two\"]\n",
    "print(type(key))  # output: <class 'tuple'>\n",
    "#print(my_dict.keys[\"two\"])\n",
    "#In this example, we define a dictionary my_dict with different types of keys. We then assign the tuple(3, 4) to the variable key and use the type() function to print its data type, which is a tuple.\n"
   ]
  },
  {
   "cell_type": "code",
   "execution_count": 52,
   "metadata": {},
   "outputs": [
    {
     "name": "stdout",
     "output_type": "stream",
     "text": [
      "The data type of key '1' is <class 'int'>\n",
      "The data type of key 'two' is <class 'str'>\n",
      "The data type of key '(3, 4)' is <class 'tuple'>\n"
     ]
    }
   ],
   "source": [
    "\n",
    "# To iterate through the dictionary and display the data type for EACH and every key in the dictionary:\n",
    "\n",
    "my_dict = {1: \"one\", \"two\": 2, (3, 4): \"three four\"}\n",
    "\n",
    "for key in my_dict:\n",
    "    print(f\"The data type of key '{key}' is {type(key)}\")\n"
   ]
  },
  {
   "cell_type": "code",
   "execution_count": 54,
   "metadata": {},
   "outputs": [
    {
     "name": "stdout",
     "output_type": "stream",
     "text": [
      "<class 'list'>\n",
      "[80, 90, 95]\n"
     ]
    }
   ],
   "source": [
    "# To determine the data type of a value in a dictionary:\n",
    "my_dict = {\"name\": \"John\", \"age\": 30, \"grades\": [80, 90, 95]}\n",
    "value = my_dict[\"grades\"] #create a variable called value and assign it to the value specified by the key\n",
    "print(type(value))  # output: <class 'list'>\n",
    "print(value)"
   ]
  },
  {
   "cell_type": "code",
   "execution_count": 55,
   "metadata": {},
   "outputs": [
    {
     "name": "stdout",
     "output_type": "stream",
     "text": [
      "The data type of value 'John' is <class 'str'>\n",
      "The data type of value '30' is <class 'int'>\n",
      "The data type of value '[80, 90, 95]' is <class 'list'>\n"
     ]
    }
   ],
   "source": [
    "# To display the data type of each and every value in a dictionary\n",
    "\n",
    "my_dict = {\"name\": \"John\", \"age\": 30, \"grades\": [80, 90, 95],}\n",
    "\n",
    "for value in my_dict.values():\n",
    "    print(f\"The data type of value '{value}' is {type(value)}\")\n"
   ]
  },
  {
   "cell_type": "code",
   "execution_count": 56,
   "metadata": {},
   "outputs": [
    {
     "name": "stdout",
     "output_type": "stream",
     "text": [
      "The data type of key 'title' is <class 'str'>\n",
      "The data type of key 'author' is <class 'str'>\n",
      "The data type of key 'isbn' is <class 'str'>\n",
      "The data type of key 'publication_date' is <class 'str'>\n",
      "The data type of key 'price' is <class 'str'>\n",
      "The data type of key 'pages' is <class 'str'>\n",
      "The data type of key 'genres' is <class 'str'>\n",
      "The data type of key 'reviews' is <class 'str'>\n",
      "The data type of value 'The Great Gatsby' is <class 'str'>\n",
      "The data type of value 'F. Scott Fitzgerald' is <class 'str'>\n",
      "The data type of value '978-0743273565' is <class 'str'>\n",
      "The data type of value 'April 10, 1925' is <class 'str'>\n",
      "The data type of value '12.99' is <class 'float'>\n",
      "The data type of value '180' is <class 'int'>\n",
      "The data type of value '('Fiction', 'Classic', 'Romance')' is <class 'tuple'>\n",
      "The data type of value '[{'username': 'booklover123', 'rating': 4, 'comment': 'I loved this book! Highly recommended.'}, {'username': 'reader456', 'rating': 3, 'comment': 'Not my favorite, but still worth reading.'}]' is <class 'list'>\n"
     ]
    }
   ],
   "source": [
    "# a complex dictionary example showing some keys with a variety of value data types\n",
    "book_info = {\n",
    "    \"title\": \"The Great Gatsby\",\n",
    "    \"author\": \"F. Scott Fitzgerald\",\n",
    "    \"isbn\": \"978-0743273565\",\n",
    "    \"publication_date\": \"April 10, 1925\",\n",
    "    \"price\": 12.99,\n",
    "    \"pages\": 180,\n",
    "    \"genres\": (\"Fiction\", \"Classic\", \"Romance\"),\n",
    "    \"reviews\": [\n",
    "        {\n",
    "            \"username\": \"booklover123\",\n",
    "            \"rating\": 4,\n",
    "            \"comment\": \"I loved this book! Highly recommended.\"\n",
    "        },\n",
    "        {\n",
    "            \"username\": \"reader456\",\n",
    "            \"rating\": 3,\n",
    "            \"comment\": \"Not my favorite, but still worth reading.\"\n",
    "        }\n",
    "    ]\n",
    "}\n",
    "\n",
    "\n",
    "\"\"\" In this updated version, we've added a key called \"genres\" with a tuple value containing three strings representing the genres of the book, and a key called \"reviews\" with a list value containing two dictionaries representing user reviews of the book. Each review dictionary contains a \"username\" key with a string value representing the username of the reviewer, a \"rating\" key with an integer value representing the reviewer's rating of the book on a scale of 1 to 5, and a \"comment\" key with a string value representing the reviewer's comments on the book.\n",
    "\n",
    "These new keys and values could be used to provide additional information about each book in your application or database. For example, you could use the \"genres\" tuple to allow users to search for books by genre, or you could use the \"reviews\" list to display user reviews and ratings of the book on the book's detail page. \"\"\"\n",
    "\n",
    "\n",
    "for key in book_info:\n",
    "    print(f\"The data type of key '{key}' is {type(key)}\")\n",
    "\n",
    "for value in book_info.values():\n",
    "    print(f\"The data type of value '{value}' is {type(value)}\")"
   ]
  },
  {
   "cell_type": "code",
   "execution_count": 62,
   "metadata": {},
   "outputs": [
    {
     "name": "stdout",
     "output_type": "stream",
     "text": [
      "person1\n",
      "      name : Alice\n",
      "      age : 30\n",
      "      city : New York\n",
      "person2\n",
      "      name : Bob\n",
      "      age : 35\n",
      "      city : Los Angeles\n"
     ]
    }
   ],
   "source": [
    "#another example of a dictionary containing keys that reference additional dictionary\n",
    "my_dict = {\n",
    "    'person1': {'name': 'Alice', 'age': 30, 'city': 'New York'},\n",
    "    'person2': {'name': 'Bob', 'age': 35, 'city': 'Los Angeles'}\n",
    "}\n",
    "\n",
    "for key, value in my_dict.items():\n",
    "    print(key)\n",
    "    for inner_key, inner_value in value.items():\n",
    "        print(f\"      {inner_key} : {inner_value}\")\n"
   ]
  },
  {
   "cell_type": "code",
   "execution_count": 63,
   "metadata": {},
   "outputs": [
    {
     "name": "stdout",
     "output_type": "stream",
     "text": [
      "step4\n",
      "Alice\n",
      "    age: 32\n",
      "    department: Marketing\n",
      "    salary: 55000\n",
      "Bob\n",
      "    age: 28\n",
      "    department: Sales\n",
      "    salary: 48000\n",
      "Charlie\n",
      "    age: 45\n",
      "    department: Finance\n",
      "    salary: 80000\n"
     ]
    },
    {
     "data": {
      "text/plain": [
       "{'age': 28, 'department': 'Sales', 'salary': 48000}"
      ]
     },
     "execution_count": 63,
     "metadata": {},
     "output_type": "execute_result"
    }
   ],
   "source": [
    "employee_data = {\n",
    "    'Alice': {'age': 32, 'department': 'Marketing', 'salary': 55000},\n",
    "    'Bob': {'age': 28, 'department': 'Sales', 'salary': 48000},\n",
    "    'Charlie': {'age': 45, 'department': 'Finance', 'salary': 80000}\n",
    "}  #a dictionary of dictionaries\n",
    "\n",
    "# for name, data in employee_data.items():\n",
    "    #print(f\"{name}: {data}\")\n",
    "\n",
    "print('step4')\n",
    "\n",
    "\n",
    "for name, data in employee_data.items():\n",
    "    print(name)\n",
    "    for key, value in data.items():\n",
    "        print(f\"    {key}: {value}\")\n",
    "\n",
    "#just show a single element \n",
    "employee_data['Bob']        "
   ]
  }
 ],
 "metadata": {
  "kernelspec": {
   "display_name": "Python 3",
   "language": "python",
   "name": "python3"
  },
  "language_info": {
   "codemirror_mode": {
    "name": "ipython",
    "version": 3
   },
   "file_extension": ".py",
   "mimetype": "text/x-python",
   "name": "python",
   "nbconvert_exporter": "python",
   "pygments_lexer": "ipython3",
   "version": "3.10.9"
  },
  "orig_nbformat": 4
 },
 "nbformat": 4,
 "nbformat_minor": 2
}
