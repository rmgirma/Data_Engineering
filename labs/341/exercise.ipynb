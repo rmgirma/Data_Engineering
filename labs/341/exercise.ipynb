{
 "cells": [
  {
   "attachments": {},
   "cell_type": "markdown",
   "metadata": {},
   "source": [
    "Question 1."
   ]
  },
  {
   "cell_type": "code",
   "execution_count": 1,
   "metadata": {},
   "outputs": [
    {
     "name": "stdout",
     "output_type": "stream",
     "text": [
      "Your name is Robel. You will be 100 years old in 2078.\n"
     ]
    }
   ],
   "source": [
    "\n",
    "name = input(\"Enter your name: \")\n",
    "age = int(input(\"Enter your age:\"))\n",
    "year = 2023 - age + 100\n",
    "year_str = str(year)\n",
    "print(f\"Your name is {name}. You will be 100 years old in {year_str}.\") \n",
    " "
   ]
  },
  {
   "cell_type": "code",
   "execution_count": 2,
   "metadata": {},
   "outputs": [
    {
     "name": "stdout",
     "output_type": "stream",
     "text": [
      "Your name is Robel. You will be 100 years old in: 2078\n",
      "Your name is Robel. You will be 100 years old in: 2078\n",
      "Your name is Robel. You will be 100 years old in: 2078\n",
      "Your name is Robel. You will be 100 years old in: 2078\n",
      "Your name is Robel. You will be 100 years old in: 2078\n",
      "Your name is Robel. You will be 100 years old in: 2078\n"
     ]
    }
   ],
   "source": [
    "msg= (f\"Your name is {name}. You will be 100 years old in: {year_str}\")\n",
    "num = int(input(\"Enter a number of time to print\"))\n",
    "x = 1\n",
    "while x <= num:\n",
    "    print(msg) \n",
    "    x +=1"
   ]
  },
  {
   "attachments": {},
   "cell_type": "markdown",
   "metadata": {},
   "source": [
    "Question 2."
   ]
  },
  {
   "cell_type": "code",
   "execution_count": 3,
   "metadata": {},
   "outputs": [
    {
     "name": "stdout",
     "output_type": "stream",
     "text": [
      "15 is odd\n"
     ]
    }
   ],
   "source": [
    "num = int(input(\"Enter a number\"))\n",
    "if num % 2 == 0:\n",
    "    print(f\"{num} is even\")\n",
    "else:\n",
    "    print(f\"{num} is odd\")"
   ]
  },
  {
   "attachments": {},
   "cell_type": "markdown",
   "metadata": {},
   "source": [
    "Question 3."
   ]
  },
  {
   "cell_type": "code",
   "execution_count": 4,
   "metadata": {},
   "outputs": [
    {
     "name": "stdout",
     "output_type": "stream",
     "text": [
      "1\n",
      "1\n",
      "2\n",
      "3\n",
      "[1, 1, 2, 3]\n"
     ]
    }
   ],
   "source": [
    "a = [1, 1, 2, 3, 5, 8, 13, 21, 34, 55, 89]\n",
    "for x in a:\n",
    "    if x < 5: print(x)\n",
    "\n",
    "# Write this in one line of Python   \n",
    "print( [ x for x in a if x<5 ] )"
   ]
  },
  {
   "attachments": {},
   "cell_type": "markdown",
   "metadata": {},
   "source": [
    "Question 4."
   ]
  },
  {
   "cell_type": "code",
   "execution_count": 5,
   "metadata": {},
   "outputs": [
    {
     "name": "stdout",
     "output_type": "stream",
     "text": [
      "The divisors of 9524562 are: [1, 2, 3, 6, 157, 314, 471, 942, 10111, 20222, 30333, 60666, 1587427, 3174854, 4762281, 9524562]\n"
     ]
    }
   ],
   "source": [
    "num = int(input(\"enter a number to divide:\"))\n",
    "divisors = []\n",
    "for i in range(1, num + 1):\n",
    "    if num % i == 0:\n",
    "        divisors.append(i)\n",
    "print(\"The divisors of\", num, \"are:\", divisors)\n",
    "\n",
    "\n"
   ]
  },
  {
   "attachments": {},
   "cell_type": "markdown",
   "metadata": {},
   "source": [
    "Question 5."
   ]
  },
  {
   "cell_type": "code",
   "execution_count": 6,
   "metadata": {},
   "outputs": [
    {
     "name": "stdout",
     "output_type": "stream",
     "text": [
      "[1, 2, 3, 5, 8, 13]\n"
     ]
    }
   ],
   "source": [
    "a = [1, 1, 2, 3, 5, 8, 13, 21, 34, 55, 89]\n",
    "b = [1, 2, 3, 4, 5, 6, 7, 8, 9, 10, 11, 12, 13]\n",
    "c = list(set(a) & set(b))\n",
    "print(c)"
   ]
  },
  {
   "cell_type": "code",
   "execution_count": 7,
   "metadata": {},
   "outputs": [
    {
     "name": "stdout",
     "output_type": "stream",
     "text": [
      "[81, 56, 35, 38, 52, 21, 6, 17, 88, 34, 70, 8, 10, 26, 58]\n",
      "[48, 33, 19, 6, 54, 82, 16, 27, 38, 26]\n",
      "[38, 26, 6]\n"
     ]
    }
   ],
   "source": [
    "import random\n",
    "\n",
    "a = random.sample(range(1, 100), 15)\n",
    "b = random.sample(range(1, 100), 10)\n",
    "c = list(set(a) & set(b))\n",
    "print(a)\n",
    "print(b)\n",
    "print(c)\n"
   ]
  }
 ],
 "metadata": {
  "kernelspec": {
   "display_name": "Python 3",
   "language": "python",
   "name": "python3"
  },
  "language_info": {
   "codemirror_mode": {
    "name": "ipython",
    "version": 3
   },
   "file_extension": ".py",
   "mimetype": "text/x-python",
   "name": "python",
   "nbconvert_exporter": "python",
   "pygments_lexer": "ipython3",
   "version": "3.10.9"
  },
  "orig_nbformat": 4
 },
 "nbformat": 4,
 "nbformat_minor": 2
}
