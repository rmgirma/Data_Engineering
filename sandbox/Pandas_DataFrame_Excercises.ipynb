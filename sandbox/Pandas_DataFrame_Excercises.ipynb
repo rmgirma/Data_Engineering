{
  "cells": [
    {
      "attachments": {},
      "cell_type": "markdown",
      "metadata": {
        "id": "HCN9PLPtw34c"
      },
      "source": [
        "**Pandas DataFrames Excerices**\n",
        "\n",
        "What is a DataFrame in pandas?\n",
        "\n",
        "DataFrame. DataFrame is a 2-dimensional labeled data structure with columns of potentially different types. You can think of it like a spreadsheet or SQL table, or a dict of Series objects. It is generally the most commonly used pandas object."
      ]
    },
    {
      "attachments": {},
      "cell_type": "markdown",
      "metadata": {
        "id": "ck_8IHBIxNxG"
      },
      "source": [
        "Please refer to the Pandas Series Documentation for a full list of methods and how to implement them.\n",
        "\n",
        "To complete the problems below we first need to import the Pandas and Numpy libraries. If you haven't already installed them, use pip or conda to install them globally or in your virtual environment.\n",
        "\n",
        "The common alias for pandas is pd.\n",
        "The common alias for numpy is np."
      ]
    },
    {
      "cell_type": "code",
      "execution_count": 1,
      "metadata": {
        "id": "FwHFLS5KxQIq"
      },
      "outputs": [],
      "source": [
        "#pip install pandas\n",
        "#pip install numpy \n",
        "\n",
        "import pandas as pd\n",
        "import numpy as np"
      ]
    },
    {
      "attachments": {},
      "cell_type": "markdown",
      "metadata": {
        "id": "NgElrmrR5X_w"
      },
      "source": [
        "DataFrame() method is used to create a dataframe in Pandas. The syntax of creating dataframe is:\n",
        "\n",
        "pd.DataFrame(data, index, columns)\n",
        "\n",
        "The index and columns parameters are optional.\n",
        "\n",
        "Check the documentation for more information on each of these paramaters"
      ]
    },
    {
      "attachments": {},
      "cell_type": "markdown",
      "metadata": {
        "id": "yjxZfXd-6Rbv"
      },
      "source": [
        "**Problem 1**\n",
        "\n",
        "Using the list the below create a Pandas dataframe"
      ]
    },
    {
      "cell_type": "code",
      "execution_count": 4,
      "metadata": {
        "id": "26PAXK-G6QU8"
      },
      "outputs": [
        {
          "name": "stdout",
          "output_type": "stream",
          "text": [
            "   0\n",
            "0  1\n",
            "1  2\n",
            "2  3\n",
            "3  4\n",
            "4  5\n",
            "5  6\n",
            "6  7\n",
            "7  8\n"
          ]
        }
      ],
      "source": [
        "list1= [1, 2, 3, 4, 5, 6, 7, 8]\n",
        "df = pd.DataFrame(list1)\n",
        "print(df)"
      ]
    },
    {
      "attachments": {},
      "cell_type": "markdown",
      "metadata": {
        "id": "V3QBWSyJ6tNi"
      },
      "source": [
        "**Problem 2**\n",
        "\n",
        "Use the same list and create a new Pandas dataframe, except this time explicitly set the column name to \"Numbers\""
      ]
    },
    {
      "cell_type": "code",
      "execution_count": 6,
      "metadata": {
        "id": "I2uRw15j6_WK"
      },
      "outputs": [
        {
          "name": "stdout",
          "output_type": "stream",
          "text": [
            "   numbers\n",
            "0        1\n",
            "1        2\n",
            "2        3\n",
            "3        4\n",
            "4        5\n",
            "5        6\n",
            "6        7\n",
            "7        8\n"
          ]
        }
      ],
      "source": [
        "df = pd.DataFrame(list1, columns=['numbers'])\n",
        "print(df)"
      ]
    },
    {
      "attachments": {},
      "cell_type": "markdown",
      "metadata": {
        "id": "RNQXDEmR7DzT"
      },
      "source": [
        "**Problem 3**\n",
        "\n",
        "Use the list below to create a Pandas dataframe.\n",
        "What differences do you notice between this one, and the dataframes above?"
      ]
    },
    {
      "cell_type": "code",
      "execution_count": 8,
      "metadata": {
        "id": "d_7R2qoF7NJV"
      },
      "outputs": [
        {
          "name": "stdout",
          "output_type": "stream",
          "text": [
            "                  0  1\n",
            "0         hamburger  1\n",
            "1            hotdog  2\n",
            "2  chicken sandwich  3\n"
          ]
        }
      ],
      "source": [
        "list2= [['hamburger', 1], [\"hotdog\", 2], [\"chicken sandwich\", 3]]\n",
        "df2 = pd.DataFrame(list2)\n",
        "print(df2)"
      ]
    },
    {
      "attachments": {},
      "cell_type": "markdown",
      "metadata": {
        "id": "3xkiTmLj72JO"
      },
      "source": [
        "**Problem 4**\n",
        "\n",
        "Use the dictionary below to create a Pandas dataframe"
      ]
    },
    {
      "cell_type": "code",
      "execution_count": 9,
      "metadata": {
        "id": "zWTvYtUZ_Pdi"
      },
      "outputs": [
        {
          "name": "stdout",
          "output_type": "stream",
          "text": [
            "    Name  Age\n",
            "0    Tom   20\n",
            "1   nick   21\n",
            "2  krish   19\n",
            "3   jack   18\n"
          ]
        }
      ],
      "source": [
        "dict1 = {'Name': ['Tom', 'nick', 'krish', 'jack'],\n",
        "        'Age': [20, 21, 19, 18]}\n",
        "df_dict = pd.DataFrame(dict1)\n",
        "print(df_dict)"
      ]
    },
    {
      "attachments": {},
      "cell_type": "markdown",
      "metadata": {
        "id": "kZvU75-K-6e4"
      },
      "source": [
        "**Problem 5**\n",
        "\n",
        "Use the same dictionary as above to create a new dataframe, but this time explicitly set the index with the following values: 'rank1', 'rank2', 'rank3','rank4'"
      ]
    },
    {
      "cell_type": "code",
      "execution_count": 11,
      "metadata": {
        "id": "6nSUTs-t_Qrg"
      },
      "outputs": [
        {
          "name": "stdout",
          "output_type": "stream",
          "text": [
            "        Name  Age\n",
            "rank1    Tom   20\n",
            "rank2   nick   21\n",
            "rank3  krish   19\n",
            "rank4   jack   18\n"
          ]
        }
      ],
      "source": [
        "idx = ['rank1', 'rank2', 'rank3', 'rank4']\n",
        "df_dict = pd.DataFrame(dict1, index=idx)\n",
        "print(df_dict)"
      ]
    },
    {
      "attachments": {},
      "cell_type": "markdown",
      "metadata": {
        "id": "uIonz_bJ_c9B"
      },
      "source": [
        "**Problem 6 **\n",
        "\n",
        "Use what you know about series and convert a numpy array to a dataframe of given shape.\n",
        "\n",
        "Reshape the series ser into a dataframe with 7 rows and 5 columns"
      ]
    },
    {
      "cell_type": "code",
      "execution_count": 12,
      "metadata": {
        "id": "k9QT9Z2__lTX"
      },
      "outputs": [
        {
          "name": "stdout",
          "output_type": "stream",
          "text": [
            "   0  1  2  3  4\n",
            "0  9  5  8  3  4\n",
            "1  4  7  3  7  8\n",
            "2  2  6  2  6  5\n",
            "3  9  3  1  3  8\n",
            "4  7  7  6  3  9\n",
            "5  8  9  1  1  1\n",
            "6  7  8  9  6  1\n"
          ]
        }
      ],
      "source": [
        "ser = pd.Series(np.random.randint(1, 10, 35))\n",
        "df_ser = pd.DataFrame(ser.values.reshape(7, 5))\n",
        "print(df_ser)"
      ]
    },
    {
      "attachments": {},
      "cell_type": "markdown",
      "metadata": {
        "id": "fbHI9fGEA9DQ"
      },
      "source": [
        "**Problem 7**\n",
        "\n",
        "Use the .read_csv() method to create a pandas dataframe from this link: 'https://raw.githubusercontent.com/selva86/datasets/master/Cars93_miss.csv'\n",
        "\n",
        "Use the following attributes and methods on the dataframe to explore the dataset.\n",
        "\n",
        "\n",
        "*   .shape\n",
        "*   .dtypes\n",
        "*   .get_dtype_counts()\n",
        "*   .dtypes.value_counts()\n",
        "*   .describe()\n",
        "*   .values\n",
        "*   .values.tolist()\n",
        "*   .head()\n",
        "\n",
        "\n",
        "Review the documentation to see exactly what each method returns\n",
        "\n",
        "\n",
        "\n"
      ]
    },
    {
      "cell_type": "code",
      "execution_count": 17,
      "metadata": {
        "id": "jQ8uie_OCD_n"
      },
      "outputs": [
        {
          "data": {
            "text/plain": [
              "<bound method NDFrame.describe of    Manufacturer    Model     Type  Min.Price  Price  Max.Price  MPG.city   \n",
              "0         Acura  Integra    Small       12.9   15.9       18.8      25.0  \\\n",
              "1           NaN   Legend  Midsize       29.2   33.9       38.7      18.0   \n",
              "2          Audi       90  Compact       25.9   29.1       32.3      20.0   \n",
              "3          Audi      100  Midsize        NaN   37.7       44.6      19.0   \n",
              "4           BMW     535i  Midsize        NaN   30.0        NaN      22.0   \n",
              "..          ...      ...      ...        ...    ...        ...       ...   \n",
              "88   Volkswagen  Eurovan      Van       16.6   19.7       22.7      17.0   \n",
              "89   Volkswagen   Passat  Compact       17.6   20.0       22.4      21.0   \n",
              "90   Volkswagen  Corrado   Sporty       22.9   23.3       23.7      18.0   \n",
              "91        Volvo      240  Compact       21.8   22.7       23.5      21.0   \n",
              "92          NaN      850  Midsize       24.8   26.7       28.5      20.0   \n",
              "\n",
              "    MPG.highway             AirBags DriveTrain  ... Passengers  Length   \n",
              "0          31.0                 NaN      Front  ...        5.0   177.0  \\\n",
              "1          25.0  Driver & Passenger      Front  ...        5.0   195.0   \n",
              "2          26.0         Driver only      Front  ...        5.0   180.0   \n",
              "3          26.0  Driver & Passenger        NaN  ...        6.0   193.0   \n",
              "4          30.0                 NaN       Rear  ...        4.0   186.0   \n",
              "..          ...                 ...        ...  ...        ...     ...   \n",
              "88         21.0                 NaN      Front  ...        7.0   187.0   \n",
              "89         30.0                 NaN      Front  ...        5.0   180.0   \n",
              "90         25.0                 NaN      Front  ...        4.0   159.0   \n",
              "91         28.0         Driver only       Rear  ...        5.0   190.0   \n",
              "92         28.0  Driver & Passenger      Front  ...        5.0   184.0   \n",
              "\n",
              "    Wheelbase  Width  Turn.circle Rear.seat.room  Luggage.room  Weight   \n",
              "0       102.0   68.0         37.0           26.5           NaN  2705.0  \\\n",
              "1       115.0   71.0         38.0           30.0          15.0  3560.0   \n",
              "2       102.0   67.0         37.0           28.0          14.0  3375.0   \n",
              "3       106.0    NaN         37.0           31.0          17.0  3405.0   \n",
              "4       109.0   69.0         39.0           27.0          13.0  3640.0   \n",
              "..        ...    ...          ...            ...           ...     ...   \n",
              "88      115.0   72.0         38.0           34.0           NaN  3960.0   \n",
              "89      103.0   67.0         35.0           31.5          14.0  2985.0   \n",
              "90       97.0   66.0         36.0           26.0          15.0  2810.0   \n",
              "91      104.0   67.0         37.0           29.5          14.0  2985.0   \n",
              "92      105.0   69.0         38.0           30.0          15.0  3245.0   \n",
              "\n",
              "     Origin                Make  \n",
              "0   non-USA       Acura Integra  \n",
              "1   non-USA        Acura Legend  \n",
              "2   non-USA             Audi 90  \n",
              "3   non-USA            Audi 100  \n",
              "4   non-USA            BMW 535i  \n",
              "..      ...                 ...  \n",
              "88      NaN  Volkswagen Eurovan  \n",
              "89  non-USA   Volkswagen Passat  \n",
              "90  non-USA  Volkswagen Corrado  \n",
              "91  non-USA           Volvo 240  \n",
              "92  non-USA           Volvo 850  \n",
              "\n",
              "[93 rows x 27 columns]>"
            ]
          },
          "execution_count": 17,
          "metadata": {},
          "output_type": "execute_result"
        }
      ],
      "source": [
        "file_path = 'https://raw.githubusercontent.com/selva86/datasets/master/Cars93_miss.csv'\n",
        "df = pd.read_csv(file_path)\n",
        "df.describe"
      ]
    },
    {
      "attachments": {},
      "cell_type": "markdown",
      "metadata": {
        "id": "YpjhV0_SCHuG"
      },
      "source": [
        "**Problem 8**\n",
        "\n",
        "Use an optional parameter for the .read_csv() to only import the 'crim' and 'medv' columns of the following dataset as a dataframe.\n",
        "\n",
        "https://raw.githubusercontent.com/selva86/datasets/master/BostonHousing.csv"
      ]
    },
    {
      "cell_type": "code",
      "execution_count": 18,
      "metadata": {
        "id": "S-FEPEgeCgN0"
      },
      "outputs": [
        {
          "name": "stdout",
          "output_type": "stream",
          "text": [
            "        crim  medv\n",
            "0    0.00632  24.0\n",
            "1    0.02731  21.6\n",
            "2    0.02729  34.7\n",
            "3    0.03237  33.4\n",
            "4    0.06905  36.2\n",
            "..       ...   ...\n",
            "501  0.06263  22.4\n",
            "502  0.04527  20.6\n",
            "503  0.06076  23.9\n",
            "504  0.10959  22.0\n",
            "505  0.04741  11.9\n",
            "\n",
            "[506 rows x 2 columns]\n"
          ]
        }
      ],
      "source": [
        "\n",
        "file_path = 'https://raw.githubusercontent.com/selva86/datasets/master/BostonHousing.csv'\n",
        "col = ['crim', 'medv']\n",
        "df2 = pd.read_csv(file_path, usecols=col)\n",
        "\n",
        "print(df2)\n"
      ]
    },
    {
      "attachments": {},
      "cell_type": "markdown",
      "metadata": {
        "id": "jTaynGXICgoy"
      },
      "source": [
        "**Problem 9**\n",
        "\n",
        "Using the dataframe from Problem 7, use the .rename() or .values() method to rename the column 'Type' as 'Car Type'"
      ]
    },
    {
      "cell_type": "code",
      "execution_count": 24,
      "metadata": {
        "id": "4jchIekvDOfd"
      },
      "outputs": [
        {
          "name": "stdout",
          "output_type": "stream",
          "text": [
            "   Manufacturer    Model Car Type  Min.Price  Price  Max.Price  MPG.city   \n",
            "0         Acura  Integra    Small       12.9   15.9       18.8      25.0  \\\n",
            "1           NaN   Legend  Midsize       29.2   33.9       38.7      18.0   \n",
            "2          Audi       90  Compact       25.9   29.1       32.3      20.0   \n",
            "3          Audi      100  Midsize        NaN   37.7       44.6      19.0   \n",
            "4           BMW     535i  Midsize        NaN   30.0        NaN      22.0   \n",
            "..          ...      ...      ...        ...    ...        ...       ...   \n",
            "88   Volkswagen  Eurovan      Van       16.6   19.7       22.7      17.0   \n",
            "89   Volkswagen   Passat  Compact       17.6   20.0       22.4      21.0   \n",
            "90   Volkswagen  Corrado   Sporty       22.9   23.3       23.7      18.0   \n",
            "91        Volvo      240  Compact       21.8   22.7       23.5      21.0   \n",
            "92          NaN      850  Midsize       24.8   26.7       28.5      20.0   \n",
            "\n",
            "    MPG.highway             AirBags DriveTrain  ... Passengers  Length   \n",
            "0          31.0                 NaN      Front  ...        5.0   177.0  \\\n",
            "1          25.0  Driver & Passenger      Front  ...        5.0   195.0   \n",
            "2          26.0         Driver only      Front  ...        5.0   180.0   \n",
            "3          26.0  Driver & Passenger        NaN  ...        6.0   193.0   \n",
            "4          30.0                 NaN       Rear  ...        4.0   186.0   \n",
            "..          ...                 ...        ...  ...        ...     ...   \n",
            "88         21.0                 NaN      Front  ...        7.0   187.0   \n",
            "89         30.0                 NaN      Front  ...        5.0   180.0   \n",
            "90         25.0                 NaN      Front  ...        4.0   159.0   \n",
            "91         28.0         Driver only       Rear  ...        5.0   190.0   \n",
            "92         28.0  Driver & Passenger      Front  ...        5.0   184.0   \n",
            "\n",
            "    Wheelbase  Width  Turn.circle Rear.seat.room  Luggage.room  Weight   \n",
            "0       102.0   68.0         37.0           26.5           NaN  2705.0  \\\n",
            "1       115.0   71.0         38.0           30.0          15.0  3560.0   \n",
            "2       102.0   67.0         37.0           28.0          14.0  3375.0   \n",
            "3       106.0    NaN         37.0           31.0          17.0  3405.0   \n",
            "4       109.0   69.0         39.0           27.0          13.0  3640.0   \n",
            "..        ...    ...          ...            ...           ...     ...   \n",
            "88      115.0   72.0         38.0           34.0           NaN  3960.0   \n",
            "89      103.0   67.0         35.0           31.5          14.0  2985.0   \n",
            "90       97.0   66.0         36.0           26.0          15.0  2810.0   \n",
            "91      104.0   67.0         37.0           29.5          14.0  2985.0   \n",
            "92      105.0   69.0         38.0           30.0          15.0  3245.0   \n",
            "\n",
            "     Origin                Make  \n",
            "0   non-USA       Acura Integra  \n",
            "1   non-USA        Acura Legend  \n",
            "2   non-USA             Audi 90  \n",
            "3   non-USA            Audi 100  \n",
            "4   non-USA            BMW 535i  \n",
            "..      ...                 ...  \n",
            "88      NaN  Volkswagen Eurovan  \n",
            "89  non-USA   Volkswagen Passat  \n",
            "90  non-USA  Volkswagen Corrado  \n",
            "91  non-USA           Volvo 240  \n",
            "92  non-USA           Volvo 850  \n",
            "\n",
            "[93 rows x 27 columns]\n",
            "Index(['Manufacturer', 'Model', 'Car Type', 'Min.Price', 'Price', 'Max.Price',\n",
            "       'MPG.city', 'MPG.highway', 'AirBags', 'DriveTrain', 'Cylinders',\n",
            "       'EngineSize', 'Horsepower', 'RPM', 'Rev.per.mile', 'Man.trans.avail',\n",
            "       'Fuel.tank.capacity', 'Passengers', 'Length', 'Wheelbase', 'Width',\n",
            "       'Turn.circle', 'Rear.seat.room', 'Luggage.room', 'Weight', 'Origin',\n",
            "       'Make'],\n",
            "      dtype='object')\n"
          ]
        }
      ],
      "source": [
        "df9 = df.rename(columns={'Type': 'Car Type'})\n",
        "\n",
        "print(df9)\n",
        "print(df9.columns)"
      ]
    },
    {
      "attachments": {},
      "cell_type": "markdown",
      "metadata": {
        "id": "Ckg787gYDPAK"
      },
      "source": [
        "**Problem 10**\n",
        "\n",
        "Using the same dataframe from Problem 9, use df.columns.map() with a lambda function to replace all of the \".\" with an \"_\" in the column names."
      ]
    },
    {
      "cell_type": "code",
      "execution_count": 31,
      "metadata": {
        "id": "3L59t7jBDnkv"
      },
      "outputs": [
        {
          "name": "stdout",
          "output_type": "stream",
          "text": [
            "Index(['Manufacturer', 'Model', 'Car Type', 'Min_Price', 'Price', 'Max_Price',\n",
            "       'MPG_city', 'MPG_highway', 'AirBags', 'DriveTrain', 'Cylinders',\n",
            "       'EngineSize', 'Horsepower', 'RPM', 'Rev_per_mile', 'Man_trans_avail',\n",
            "       'Fuel_tank_capacity', 'Passengers', 'Length', 'Wheelbase', 'Width',\n",
            "       'Turn_circle', 'Rear_seat_room', 'Luggage_room', 'Weight', 'Origin',\n",
            "       'Make'],\n",
            "      dtype='object')\n"
          ]
        }
      ],
      "source": [
        "df9.columns = df9.columns.map(lambda x: x.replace('.', '_'))\n",
        "\n",
        "print(df9.columns)"
      ]
    },
    {
      "attachments": {},
      "cell_type": "markdown",
      "metadata": {
        "id": "NBs8sI0vDrrS"
      },
      "source": [
        "**Problem 11**\n",
        "\n",
        "Use the same dataframe from Problem 10. Search the documentation for a built in method to check if the dataframe has any missing values.\n",
        "\n",
        "*Hint: you may need to chain multiple methods and attributes"
      ]
    },
    {
      "cell_type": "code",
      "execution_count": 26,
      "metadata": {
        "id": "Uj_uwIDhD8It"
      },
      "outputs": [
        {
          "name": "stdout",
          "output_type": "stream",
          "text": [
            "True\n"
          ]
        }
      ],
      "source": [
        "df_missing = df9.isnull().any().any()\n",
        "print(df_missing)\n"
      ]
    },
    {
      "attachments": {},
      "cell_type": "markdown",
      "metadata": {
        "id": "JUvMtJJCECxo"
      },
      "source": [
        "**Problem 12**\n",
        "\n",
        "Use the same dataframe from Problem 11. Use the .apply() method along with a lambda function to count the number of missing values in each column of the datarame."
      ]
    },
    {
      "cell_type": "code",
      "execution_count": 35,
      "metadata": {
        "id": "iGLievTZEPup"
      },
      "outputs": [
        {
          "name": "stdout",
          "output_type": "stream",
          "text": [
            "Manufacturer           4\n",
            "Model                  1\n",
            "Car Type               3\n",
            "Min_Price              7\n",
            "Price                  2\n",
            "Max_Price              5\n",
            "MPG_city               9\n",
            "MPG_highway            2\n",
            "AirBags               38\n",
            "DriveTrain             7\n",
            "Cylinders              5\n",
            "EngineSize             2\n",
            "Horsepower             7\n",
            "RPM                    3\n",
            "Rev_per_mile           6\n",
            "Man_trans_avail        5\n",
            "Fuel_tank_capacity     8\n",
            "Passengers             2\n",
            "Length                 4\n",
            "Wheelbase              1\n",
            "Width                  6\n",
            "Turn_circle            5\n",
            "Rear_seat_room         4\n",
            "Luggage_room          19\n",
            "Weight                 7\n",
            "Origin                 5\n",
            "Make                   3\n",
            "dtype: int64\n"
          ]
        }
      ],
      "source": [
        "df12 = df9.apply(lambda x: x.isnull().sum())\n",
        "print(df12)"
      ]
    },
    {
      "attachments": {},
      "cell_type": "markdown",
      "metadata": {
        "id": "BEzy4rTrEgAg"
      },
      "source": [
        "**Problem 13**\n",
        "\n",
        "Use the same dataframe from Problem 12. Use .loc and .iloc on the dataframe. What is the difference between the two?"
      ]
    },
    {
      "cell_type": "code",
      "execution_count": 57,
      "metadata": {
        "id": "yaHzlT-lEsas"
      },
      "outputs": [
        {
          "data": {
            "text/plain": [
              "3"
            ]
          },
          "execution_count": 57,
          "metadata": {},
          "output_type": "execute_result"
        }
      ],
      "source": [
        "df12.loc['Car Type']\n",
        "df12.iloc[2]"
      ]
    },
    {
      "attachments": {},
      "cell_type": "markdown",
      "metadata": {
        "id": "6BtQbm8oE_s8"
      },
      "source": [
        "**Problem 14**\n",
        "\n",
        "Use the same dataframe from Problem 13, Use the .sortindex() method to sort the columns in reverse alphabetical order."
      ]
    },
    {
      "cell_type": "code",
      "execution_count": 60,
      "metadata": {
        "id": "lxoWW-C_FLo1"
      },
      "outputs": [
        {
          "name": "stdout",
          "output_type": "stream",
          "text": [
            "<bound method IndexOpsMixin.transpose of Width                  6\n",
            "Wheelbase              1\n",
            "Weight                 7\n",
            "Turn_circle            5\n",
            "Rev_per_mile           6\n",
            "Rear_seat_room         4\n",
            "RPM                    3\n",
            "Price                  2\n",
            "Passengers             2\n",
            "Origin                 5\n",
            "Model                  1\n",
            "Min_Price              7\n",
            "Max_Price              5\n",
            "Manufacturer           4\n",
            "Man_trans_avail        5\n",
            "Make                   3\n",
            "MPG_highway            2\n",
            "MPG_city               9\n",
            "Luggage_room          19\n",
            "Length                 4\n",
            "Horsepower             7\n",
            "Fuel_tank_capacity     8\n",
            "EngineSize             2\n",
            "DriveTrain             7\n",
            "Cylinders              5\n",
            "Car Type               3\n",
            "AirBags               38\n",
            "dtype: int64>\n"
          ]
        }
      ],
      "source": [
        "df14 = df12.sort_index(ascending=False).transpose\n",
        "print(df14)"
      ]
    },
    {
      "attachments": {},
      "cell_type": "markdown",
      "metadata": {
        "id": "YXVBJqajFU9i"
      },
      "source": [
        "Problem 15\n",
        "\n",
        "Use the same dataframe from Problem 14. Change the pandas display setting on printing the dataframe so that it shows a maximum of 10 rows and 10 columns."
      ]
    },
    {
      "cell_type": "code",
      "execution_count": 67,
      "metadata": {
        "id": "58RTbPFsFf8l"
      },
      "outputs": [
        {
          "name": "stdout",
          "output_type": "stream",
          "text": [
            "<bound method IndexOpsMixin.transpose of Width            6\n",
            "Wheelbase        1\n",
            "Weight           7\n",
            "Turn_circle      5\n",
            "Rev_per_mile     6\n",
            "                ..\n",
            "EngineSize       2\n",
            "DriveTrain       7\n",
            "Cylinders        5\n",
            "Car Type         3\n",
            "AirBags         38\n",
            "Length: 27, dtype: int64>\n"
          ]
        }
      ],
      "source": [
        "pd.options.display.max_rows = 10\n",
        "pd.options.display.max_columns = 10\n",
        "print(df14)\n"
      ]
    }
  ],
  "metadata": {
    "colab": {
      "provenance": []
    },
    "kernelspec": {
      "display_name": "Python 3",
      "name": "python3"
    },
    "language_info": {
      "codemirror_mode": {
        "name": "ipython",
        "version": 3
      },
      "file_extension": ".py",
      "mimetype": "text/x-python",
      "name": "python",
      "nbconvert_exporter": "python",
      "pygments_lexer": "ipython3",
      "version": "3.10.9"
    }
  },
  "nbformat": 4,
  "nbformat_minor": 0
}
